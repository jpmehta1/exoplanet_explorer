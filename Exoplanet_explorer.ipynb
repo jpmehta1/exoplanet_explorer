{
 "cells": [
  {
   "cell_type": "code",
   "execution_count": 195,
   "id": "60848b56",
   "metadata": {},
   "outputs": [
    {
     "data": {
      "text/plain": [
       "<snowflake.connector.cursor.SnowflakeCursor at 0x30e7a9090>"
      ]
     },
     "execution_count": 195,
     "metadata": {},
     "output_type": "execute_result"
    }
   ],
   "source": [
    "from sqlalchemy import create_engine\n",
    "import pandas as pd\n",
    "import snowflake.connector\n",
    "import matplotlib.pyplot as plt\n",
    "import pickle\n",
    "# connector \n",
    "conn = snowflake.connector.connect(\n",
    "    user = \"MEHTAJEETPARESH\",\n",
    "    password = \"Jeetmehta12345\",\n",
    "    account = \"xo45240.us-central1.gcp\",\n",
    "    role = 'NASA_ROLE',\n",
    "    warehouse = \"COMPUTE_WH\",\n",
    "    database = \"NASA_PROJECT\",\n",
    "    schema = \"EXOPLANET_DATA\"\n",
    ")\n",
    "\n",
    "cursor = conn.cursor()\n",
    "cursor.execute(\"USE DATABASE NASA_PROJECT;\")\n",
    "cursor.execute(\"USE SCHEMA EXOPLANET_DATA;\")"
   ]
  },
  {
   "cell_type": "code",
   "execution_count": 191,
   "id": "fa5dd274",
   "metadata": {
    "scrolled": true
   },
   "outputs": [
    {
     "name": "stderr",
     "output_type": "stream",
     "text": [
      "/var/folders/dt/1r2bkrkj763_hbb3yn7x007h0000gn/T/ipykernel_4881/2910441563.py:2: UserWarning: pandas only supports SQLAlchemy connectable (engine/connection) or database string URI or sqlite3 DBAPI2 connection. Other DBAPI2 objects are not tested. Please consider using SQLAlchemy.\n",
      "  df = pd.read_sql(\"\"\"\n"
     ]
    }
   ],
   "source": [
    "# checking original dataset\n",
    "df = pd.read_sql(\"\"\"\n",
    "            SELECT *\n",
    "            FROM PSCOMPPARS\n",
    "            LIMIT 5\n",
    "            \"\"\", conn)\n"
   ]
  },
  {
   "cell_type": "code",
   "execution_count": 193,
   "id": "b3c52d84",
   "metadata": {},
   "outputs": [
    {
     "name": "stderr",
     "output_type": "stream",
     "text": [
      "/var/folders/dt/1r2bkrkj763_hbb3yn7x007h0000gn/T/ipykernel_4881/1687618436.py:2: UserWarning: pandas only supports SQLAlchemy connectable (engine/connection) or database string URI or sqlite3 DBAPI2 connection. Other DBAPI2 objects are not tested. Please consider using SQLAlchemy.\n",
      "  transformed_df = pd.read_sql(\"\"\"\n"
     ]
    },
    {
     "data": {
      "text/html": [
       "<div>\n",
       "<style scoped>\n",
       "    .dataframe tbody tr th:only-of-type {\n",
       "        vertical-align: middle;\n",
       "    }\n",
       "\n",
       "    .dataframe tbody tr th {\n",
       "        vertical-align: top;\n",
       "    }\n",
       "\n",
       "    .dataframe thead th {\n",
       "        text-align: right;\n",
       "    }\n",
       "</style>\n",
       "<table border=\"1\" class=\"dataframe\">\n",
       "  <thead>\n",
       "    <tr style=\"text-align: right;\">\n",
       "      <th></th>\n",
       "      <th>RIGHT_ASCENSION_DEG</th>\n",
       "      <th>DECLINATION_DEG</th>\n",
       "      <th>PLANET_EQ_TEMPERATURE_K</th>\n",
       "      <th>STAR_METALLICITY_DEX</th>\n",
       "      <th>DISCOVERY_METHOD</th>\n",
       "      <th>CONTROVERSIAL_FLAG</th>\n",
       "      <th>ORBITAL_AXIS_LIMIT</th>\n",
       "    </tr>\n",
       "  </thead>\n",
       "  <tbody>\n",
       "    <tr>\n",
       "      <th>0</th>\n",
       "      <td>242.376234</td>\n",
       "      <td>-21.083140</td>\n",
       "      <td>1700.0</td>\n",
       "      <td>0.01486</td>\n",
       "      <td>Imaging</td>\n",
       "      <td>0.0</td>\n",
       "      <td>0.0</td>\n",
       "    </tr>\n",
       "    <tr>\n",
       "      <th>1</th>\n",
       "      <td>69.340553</td>\n",
       "      <td>26.850300</td>\n",
       "      <td>1450.0</td>\n",
       "      <td>0.01000</td>\n",
       "      <td>Imaging</td>\n",
       "      <td>0.0</td>\n",
       "      <td>0.0</td>\n",
       "    </tr>\n",
       "    <tr>\n",
       "      <th>2</th>\n",
       "      <td>20.712801</td>\n",
       "      <td>-24.664613</td>\n",
       "      <td>1600.0</td>\n",
       "      <td>0.01486</td>\n",
       "      <td>Imaging</td>\n",
       "      <td>0.0</td>\n",
       "      <td>0.0</td>\n",
       "    </tr>\n",
       "    <tr>\n",
       "      <th>3</th>\n",
       "      <td>59.791103</td>\n",
       "      <td>20.159976</td>\n",
       "      <td>2369.0</td>\n",
       "      <td>0.01486</td>\n",
       "      <td>Imaging</td>\n",
       "      <td>0.0</td>\n",
       "      <td>0.0</td>\n",
       "    </tr>\n",
       "    <tr>\n",
       "      <th>4</th>\n",
       "      <td>165.329539</td>\n",
       "      <td>-77.544091</td>\n",
       "      <td>2677.0</td>\n",
       "      <td>0.01486</td>\n",
       "      <td>Imaging</td>\n",
       "      <td>0.0</td>\n",
       "      <td>0.0</td>\n",
       "    </tr>\n",
       "  </tbody>\n",
       "</table>\n",
       "</div>"
      ],
      "text/plain": [
       "   RIGHT_ASCENSION_DEG  DECLINATION_DEG  PLANET_EQ_TEMPERATURE_K  \\\n",
       "0           242.376234       -21.083140                   1700.0   \n",
       "1            69.340553        26.850300                   1450.0   \n",
       "2            20.712801       -24.664613                   1600.0   \n",
       "3            59.791103        20.159976                   2369.0   \n",
       "4           165.329539       -77.544091                   2677.0   \n",
       "\n",
       "   STAR_METALLICITY_DEX DISCOVERY_METHOD  CONTROVERSIAL_FLAG  \\\n",
       "0               0.01486          Imaging                 0.0   \n",
       "1               0.01000          Imaging                 0.0   \n",
       "2               0.01486          Imaging                 0.0   \n",
       "3               0.01486          Imaging                 0.0   \n",
       "4               0.01486          Imaging                 0.0   \n",
       "\n",
       "   ORBITAL_AXIS_LIMIT  \n",
       "0                 0.0  \n",
       "1                 0.0  \n",
       "2                 0.0  \n",
       "3                 0.0  \n",
       "4                 0.0  "
      ]
     },
     "execution_count": 193,
     "metadata": {},
     "output_type": "execute_result"
    }
   ],
   "source": [
    "# checking transformed dataset\n",
    "transformed_df = pd.read_sql(\"\"\"\n",
    "SELECT * FROM TRANSFORM_EXOPLANET LIMIT 5\n",
    "\"\"\", conn)\n",
    "\n",
    "transformed_df.head()\n"
   ]
  },
  {
   "cell_type": "markdown",
   "id": "5c7b37a9",
   "metadata": {},
   "source": [
    "## ANALYSIS STARTS HERE ##"
   ]
  },
  {
   "cell_type": "code",
   "execution_count": 196,
   "id": "210b555b",
   "metadata": {},
   "outputs": [
    {
     "name": "stderr",
     "output_type": "stream",
     "text": [
      "/var/folders/dt/1r2bkrkj763_hbb3yn7x007h0000gn/T/ipykernel_4881/2763029270.py:2: UserWarning: pandas only supports SQLAlchemy connectable (engine/connection) or database string URI or sqlite3 DBAPI2 connection. Other DBAPI2 objects are not tested. Please consider using SQLAlchemy.\n",
      "  q1 = pd.read_sql(\"\"\"\n"
     ]
    }
   ],
   "source": [
    "# 1. number of planets per discovery method ordered by count of number of planets\n",
    "q1 = pd.read_sql(\"\"\"\n",
    "SELECT discovery_method, COUNT(*) AS num_planets\n",
    "FROM TRANSFORM_EXOPLANET\n",
    "GROUP BY discovery_method\n",
    "ORDER BY num_planets DESC\n",
    "\"\"\", conn)\n",
    "\n",
    "with open(\"answers/q1_planets_by_hemisphere.pkl\", \"wb\") as f:\n",
    "    pickle.dump(q1, f)"
   ]
  },
  {
   "cell_type": "code",
   "execution_count": 198,
   "id": "b9e7f20e",
   "metadata": {},
   "outputs": [
    {
     "name": "stderr",
     "output_type": "stream",
     "text": [
      "/var/folders/dt/1r2bkrkj763_hbb3yn7x007h0000gn/T/ipykernel_4881/1301044439.py:2: UserWarning: pandas only supports SQLAlchemy connectable (engine/connection) or database string URI or sqlite3 DBAPI2 connection. Other DBAPI2 objects are not tested. Please consider using SQLAlchemy.\n",
      "  q2 = pd.read_sql(\"\"\"\n"
     ]
    }
   ],
   "source": [
    "# 2. average planet temperature per discovery method\n",
    "q2 = pd.read_sql(\"\"\"\n",
    "SELECT discovery_method, AVG(planet_eq_temperature_k) AS avg_planet_eq_temp_k\n",
    "FROM TRANSFORM_EXOPLANET\n",
    "GROUP BY discovery_method\n",
    "ORDER BY avg_planet_eq_temp_k DESC\n",
    "\"\"\", conn)\n",
    "\n",
    "with open(\"answers/q2_planets_avg_temp_discovery_method.pkl\", \"wb\") as f:\n",
    "    pickle.dump(q2, f)\n"
   ]
  },
  {
   "cell_type": "code",
   "execution_count": 199,
   "id": "c6868818",
   "metadata": {},
   "outputs": [
    {
     "name": "stderr",
     "output_type": "stream",
     "text": [
      "/var/folders/dt/1r2bkrkj763_hbb3yn7x007h0000gn/T/ipykernel_4881/2167246932.py:2: UserWarning: pandas only supports SQLAlchemy connectable (engine/connection) or database string URI or sqlite3 DBAPI2 connection. Other DBAPI2 objects are not tested. Please consider using SQLAlchemy.\n",
      "  q3 = pd.read_sql(\"\"\"\n"
     ]
    }
   ],
   "source": [
    "# 3. planet with max temperature\n",
    "q3 = pd.read_sql(\"\"\"\n",
    "SELECT MAX(planet_eq_temperature_k) AS max_temp_k\n",
    "FROM TRANSFORM_EXOPLANET\n",
    "\"\"\", conn)\n",
    "\n",
    "with open(\"answers/q3_planets_max_temp.pkl\", \"wb\") as f:\n",
    "    pickle.dump(q3, f)"
   ]
  },
  {
   "cell_type": "code",
   "execution_count": 200,
   "id": "2c7c7803",
   "metadata": {},
   "outputs": [
    {
     "name": "stderr",
     "output_type": "stream",
     "text": [
      "/var/folders/dt/1r2bkrkj763_hbb3yn7x007h0000gn/T/ipykernel_4881/2317102627.py:2: UserWarning: pandas only supports SQLAlchemy connectable (engine/connection) or database string URI or sqlite3 DBAPI2 connection. Other DBAPI2 objects are not tested. Please consider using SQLAlchemy.\n",
      "  q4 = pd.read_sql(\"\"\"\n"
     ]
    }
   ],
   "source": [
    "# 4. number of controversial vs confirmed planets\n",
    "q4 = pd.read_sql(\"\"\"\n",
    "SELECT controversial_flag, COUNT(*) AS count\n",
    "FROM TRANSFORM_EXOPLANET\n",
    "GROUP BY controversial_flag\n",
    "\"\"\", conn)\n",
    "\n",
    "with open(\"answers/q4_controversial_vs_confirmed_planets.pkl\", \"wb\") as f:\n",
    "    pickle.dump(q4, f)"
   ]
  },
  {
   "cell_type": "code",
   "execution_count": 105,
   "id": "310b5c2e",
   "metadata": {},
   "outputs": [
    {
     "name": "stderr",
     "output_type": "stream",
     "text": [
      "/var/folders/dt/1r2bkrkj763_hbb3yn7x007h0000gn/T/ipykernel_4881/1979919766.py:2: UserWarning: pandas only supports SQLAlchemy connectable (engine/connection) or database string URI or sqlite3 DBAPI2 connection. Other DBAPI2 objects are not tested. Please consider using SQLAlchemy.\n",
      "  q5 = pd.read_sql(\"\"\"\n"
     ]
    },
    {
     "data": {
      "text/html": [
       "<div>\n",
       "<style scoped>\n",
       "    .dataframe tbody tr th:only-of-type {\n",
       "        vertical-align: middle;\n",
       "    }\n",
       "\n",
       "    .dataframe tbody tr th {\n",
       "        vertical-align: top;\n",
       "    }\n",
       "\n",
       "    .dataframe thead th {\n",
       "        text-align: right;\n",
       "    }\n",
       "</style>\n",
       "<table border=\"1\" class=\"dataframe\">\n",
       "  <thead>\n",
       "    <tr style=\"text-align: right;\">\n",
       "      <th></th>\n",
       "      <th>DISCOVERY_METHOD</th>\n",
       "      <th>AVG_METALLICITY_DEX</th>\n",
       "    </tr>\n",
       "  </thead>\n",
       "  <tbody>\n",
       "    <tr>\n",
       "      <th>0</th>\n",
       "      <td>Transit Timing Variations</td>\n",
       "      <td>0.017290</td>\n",
       "    </tr>\n",
       "    <tr>\n",
       "      <th>1</th>\n",
       "      <td>Transit</td>\n",
       "      <td>0.016299</td>\n",
       "    </tr>\n",
       "    <tr>\n",
       "      <th>2</th>\n",
       "      <td>Microlensing</td>\n",
       "      <td>0.014860</td>\n",
       "    </tr>\n",
       "    <tr>\n",
       "      <th>3</th>\n",
       "      <td>Radial Velocity</td>\n",
       "      <td>-0.001269</td>\n",
       "    </tr>\n",
       "    <tr>\n",
       "      <th>4</th>\n",
       "      <td>Imaging</td>\n",
       "      <td>-0.044209</td>\n",
       "    </tr>\n",
       "  </tbody>\n",
       "</table>\n",
       "</div>"
      ],
      "text/plain": [
       "            DISCOVERY_METHOD  AVG_METALLICITY_DEX\n",
       "0  Transit Timing Variations             0.017290\n",
       "1                    Transit             0.016299\n",
       "2               Microlensing             0.014860\n",
       "3            Radial Velocity            -0.001269\n",
       "4                    Imaging            -0.044209"
      ]
     },
     "execution_count": 105,
     "metadata": {},
     "output_type": "execute_result"
    }
   ],
   "source": [
    "# 5. average metallicity by discovery method\n",
    "q5 = pd.read_sql(\"\"\"\n",
    "SELECT discovery_method, AVG(STAR_METALLICITY_DEX) AS avg_metallicity_dex\n",
    "FROM TRANSFORM_EXOPLANET\n",
    "GROUP BY discovery_method\n",
    "ORDER BY avg_metallicity_dex DESC\n",
    "\"\"\", conn)\n",
    "\n",
    "q5.head()"
   ]
  },
  {
   "cell_type": "code",
   "execution_count": 116,
   "id": "c0d22c31",
   "metadata": {},
   "outputs": [
    {
     "name": "stderr",
     "output_type": "stream",
     "text": [
      "/var/folders/dt/1r2bkrkj763_hbb3yn7x007h0000gn/T/ipykernel_4881/596204610.py:2: UserWarning: pandas only supports SQLAlchemy connectable (engine/connection) or database string URI or sqlite3 DBAPI2 connection. Other DBAPI2 objects are not tested. Please consider using SQLAlchemy.\n",
      "  q6 = pd.read_sql(\"\"\"\n"
     ]
    },
    {
     "data": {
      "text/html": [
       "<div>\n",
       "<style scoped>\n",
       "    .dataframe tbody tr th:only-of-type {\n",
       "        vertical-align: middle;\n",
       "    }\n",
       "\n",
       "    .dataframe tbody tr th {\n",
       "        vertical-align: top;\n",
       "    }\n",
       "\n",
       "    .dataframe thead th {\n",
       "        text-align: right;\n",
       "    }\n",
       "</style>\n",
       "<table border=\"1\" class=\"dataframe\">\n",
       "  <thead>\n",
       "    <tr style=\"text-align: right;\">\n",
       "      <th></th>\n",
       "      <th>HEMISPHERE</th>\n",
       "      <th>NUM_PLANETS</th>\n",
       "    </tr>\n",
       "  </thead>\n",
       "  <tbody>\n",
       "    <tr>\n",
       "      <th>0</th>\n",
       "      <td>South</td>\n",
       "      <td>843</td>\n",
       "    </tr>\n",
       "    <tr>\n",
       "      <th>1</th>\n",
       "      <td>North</td>\n",
       "      <td>3555</td>\n",
       "    </tr>\n",
       "  </tbody>\n",
       "</table>\n",
       "</div>"
      ],
      "text/plain": [
       "  HEMISPHERE  NUM_PLANETS\n",
       "0      South          843\n",
       "1      North         3555"
      ]
     },
     "execution_count": 116,
     "metadata": {},
     "output_type": "execute_result"
    }
   ],
   "source": [
    "# 6. count of planets in northern vs southern sky\n",
    "q6 = pd.read_sql(\"\"\"\n",
    "SELECT\n",
    "    CASE WHEN declination_deg >= 0 THEN 'North' ELSE 'South' END AS hemisphere,\n",
    "    COUNT(*) AS num_planets\n",
    "FROM TRANSFORM_EXOPLANET\n",
    "GROUP BY hemisphere\n",
    "\"\"\", conn)\n",
    "\n",
    "q6.head()\n"
   ]
  },
  {
   "cell_type": "code",
   "execution_count": 122,
   "id": "b1ebab34",
   "metadata": {},
   "outputs": [
    {
     "data": {
      "image/png": "[encoded data removed]",
      "text/plain": [
       "<Figure size 600x600 with 1 Axes>"
      ]
     },
     "metadata": {},
     "output_type": "display_data"
    }
   ],
   "source": [
    "# 7. pie chart for the count of planets in northern vs southern sky\n",
    "import matplotlib.pyplot as plt\n",
    "q7 = q6.copy()\n",
    "q7.set_index('HEMISPHERE')['NUM_PLANETS'].plot.pie(\n",
    "    autopct='%1.1f%%',\n",
    "    figsize=(6, 6),\n",
    "    ylabel=''\n",
    ")\n",
    "plt.title('Planets by Hemisphere (North vs South)')\n",
    "plt.show()\n"
   ]
  },
  {
   "cell_type": "code",
   "execution_count": 109,
   "id": "4b52fdb2",
   "metadata": {},
   "outputs": [
    {
     "name": "stderr",
     "output_type": "stream",
     "text": [
      "/var/folders/dt/1r2bkrkj763_hbb3yn7x007h0000gn/T/ipykernel_4881/2783248043.py:2: UserWarning: pandas only supports SQLAlchemy connectable (engine/connection) or database string URI or sqlite3 DBAPI2 connection. Other DBAPI2 objects are not tested. Please consider using SQLAlchemy.\n",
      "  q7 = pd.read_sql(\"\"\"\n"
     ]
    },
    {
     "data": {
      "text/html": [
       "<div>\n",
       "<style scoped>\n",
       "    .dataframe tbody tr th:only-of-type {\n",
       "        vertical-align: middle;\n",
       "    }\n",
       "\n",
       "    .dataframe tbody tr th {\n",
       "        vertical-align: top;\n",
       "    }\n",
       "\n",
       "    .dataframe thead th {\n",
       "        text-align: right;\n",
       "    }\n",
       "</style>\n",
       "<table border=\"1\" class=\"dataframe\">\n",
       "  <thead>\n",
       "    <tr style=\"text-align: right;\">\n",
       "      <th></th>\n",
       "      <th>RIGHT_ASCENSION_DEG</th>\n",
       "      <th>DECLINATION_DEG</th>\n",
       "      <th>PLANET_EQ_TEMPERATURE_K</th>\n",
       "      <th>STAR_METALLICITY_DEX</th>\n",
       "      <th>DISCOVERY_METHOD</th>\n",
       "      <th>CONTROVERSIAL_FLAG</th>\n",
       "      <th>ORBITAL_AXIS_LIMIT</th>\n",
       "    </tr>\n",
       "  </thead>\n",
       "  <tbody>\n",
       "    <tr>\n",
       "      <th>0</th>\n",
       "      <td>225.686732</td>\n",
       "      <td>-3.031487</td>\n",
       "      <td>3353.0</td>\n",
       "      <td>0.29</td>\n",
       "      <td>Transit</td>\n",
       "      <td>0.0</td>\n",
       "      <td>0.0</td>\n",
       "    </tr>\n",
       "    <tr>\n",
       "      <th>1</th>\n",
       "      <td>292.247190</td>\n",
       "      <td>47.969543</td>\n",
       "      <td>2733.0</td>\n",
       "      <td>0.26</td>\n",
       "      <td>Transit</td>\n",
       "      <td>0.0</td>\n",
       "      <td>0.0</td>\n",
       "    </tr>\n",
       "    <tr>\n",
       "      <th>2</th>\n",
       "      <td>107.600231</td>\n",
       "      <td>-39.097271</td>\n",
       "      <td>2720.0</td>\n",
       "      <td>0.13</td>\n",
       "      <td>Transit</td>\n",
       "      <td>0.0</td>\n",
       "      <td>0.0</td>\n",
       "    </tr>\n",
       "    <tr>\n",
       "      <th>3</th>\n",
       "      <td>247.667000</td>\n",
       "      <td>49.046789</td>\n",
       "      <td>2609.0</td>\n",
       "      <td>0.22</td>\n",
       "      <td>Transit</td>\n",
       "      <td>0.0</td>\n",
       "      <td>0.0</td>\n",
       "    </tr>\n",
       "    <tr>\n",
       "      <th>4</th>\n",
       "      <td>97.636645</td>\n",
       "      <td>29.672266</td>\n",
       "      <td>2601.0</td>\n",
       "      <td>0.12</td>\n",
       "      <td>Transit</td>\n",
       "      <td>0.0</td>\n",
       "      <td>0.0</td>\n",
       "    </tr>\n",
       "  </tbody>\n",
       "</table>\n",
       "</div>"
      ],
      "text/plain": [
       "   RIGHT_ASCENSION_DEG  DECLINATION_DEG  PLANET_EQ_TEMPERATURE_K  \\\n",
       "0           225.686732        -3.031487                   3353.0   \n",
       "1           292.247190        47.969543                   2733.0   \n",
       "2           107.600231       -39.097271                   2720.0   \n",
       "3           247.667000        49.046789                   2609.0   \n",
       "4            97.636645        29.672266                   2601.0   \n",
       "\n",
       "   STAR_METALLICITY_DEX DISCOVERY_METHOD  CONTROVERSIAL_FLAG  \\\n",
       "0                  0.29          Transit                 0.0   \n",
       "1                  0.26          Transit                 0.0   \n",
       "2                  0.13          Transit                 0.0   \n",
       "3                  0.22          Transit                 0.0   \n",
       "4                  0.12          Transit                 0.0   \n",
       "\n",
       "   ORBITAL_AXIS_LIMIT  \n",
       "0                 0.0  \n",
       "1                 0.0  \n",
       "2                 0.0  \n",
       "3                 0.0  \n",
       "4                 0.0  "
      ]
     },
     "execution_count": 109,
     "metadata": {},
     "output_type": "execute_result"
    }
   ],
   "source": [
    "# 8. hottest planets with high metallicity stars\n",
    "q8 = pd.read_sql(\"\"\"\n",
    "SELECT *\n",
    "FROM TRANSFORM_EXOPLANET \n",
    "WHERE star_metallicity_dex > 0.1\n",
    "ORDER BY planet_eq_temperature_k DESC\n",
    "LIMIT 10\n",
    "\"\"\", conn)\n",
    "q8.head()"
   ]
  },
  {
   "cell_type": "code",
   "execution_count": 111,
   "id": "68a20664",
   "metadata": {},
   "outputs": [
    {
     "name": "stderr",
     "output_type": "stream",
     "text": [
      "/var/folders/dt/1r2bkrkj763_hbb3yn7x007h0000gn/T/ipykernel_4881/4145247619.py:2: UserWarning: pandas only supports SQLAlchemy connectable (engine/connection) or database string URI or sqlite3 DBAPI2 connection. Other DBAPI2 objects are not tested. Please consider using SQLAlchemy.\n",
      "  q8 = pd.read_sql(\"\"\"\n"
     ]
    },
    {
     "data": {
      "text/html": [
       "<div>\n",
       "<style scoped>\n",
       "    .dataframe tbody tr th:only-of-type {\n",
       "        vertical-align: middle;\n",
       "    }\n",
       "\n",
       "    .dataframe tbody tr th {\n",
       "        vertical-align: top;\n",
       "    }\n",
       "\n",
       "    .dataframe thead th {\n",
       "        text-align: right;\n",
       "    }\n",
       "</style>\n",
       "<table border=\"1\" class=\"dataframe\">\n",
       "  <thead>\n",
       "    <tr style=\"text-align: right;\">\n",
       "      <th></th>\n",
       "      <th>RIGHT_ASCENSION_DEG</th>\n",
       "      <th>DECLINATION_DEG</th>\n",
       "      <th>PLANET_EQ_TEMPERATURE_K</th>\n",
       "      <th>STAR_METALLICITY_DEX</th>\n",
       "      <th>DISCOVERY_METHOD</th>\n",
       "      <th>CONTROVERSIAL_FLAG</th>\n",
       "      <th>ORBITAL_AXIS_LIMIT</th>\n",
       "    </tr>\n",
       "  </thead>\n",
       "  <tbody>\n",
       "  </tbody>\n",
       "</table>\n",
       "</div>"
      ],
      "text/plain": [
       "Empty DataFrame\n",
       "Columns: [RIGHT_ASCENSION_DEG, DECLINATION_DEG, PLANET_EQ_TEMPERATURE_K, STAR_METALLICITY_DEX, DISCOVERY_METHOD, CONTROVERSIAL_FLAG, ORBITAL_AXIS_LIMIT]\n",
       "Index: []"
      ]
     },
     "execution_count": 111,
     "metadata": {},
     "output_type": "execute_result"
    }
   ],
   "source": [
    "# 9. Planets with non zero orbital axis -> none are,lol\n",
    "q9 = pd.read_sql(\"\"\"\n",
    "SELECT *\n",
    "FROM TRANSFORM_EXOPLANET \n",
    "WHERE ORBITAL_AXIS_LIMIT > 0.0\n",
    "LIMIT 10\n",
    "\"\"\", conn)\n",
    "q9.head()"
   ]
  },
  {
   "cell_type": "code",
   "execution_count": 114,
   "id": "804cf69f",
   "metadata": {},
   "outputs": [
    {
     "name": "stderr",
     "output_type": "stream",
     "text": [
      "/var/folders/dt/1r2bkrkj763_hbb3yn7x007h0000gn/T/ipykernel_4881/1174752393.py:2: UserWarning: pandas only supports SQLAlchemy connectable (engine/connection) or database string URI or sqlite3 DBAPI2 connection. Other DBAPI2 objects are not tested. Please consider using SQLAlchemy.\n",
      "  q9 = pd.read_sql(\"\"\"\n"
     ]
    },
    {
     "data": {
      "text/html": [
       "<div>\n",
       "<style scoped>\n",
       "    .dataframe tbody tr th:only-of-type {\n",
       "        vertical-align: middle;\n",
       "    }\n",
       "\n",
       "    .dataframe tbody tr th {\n",
       "        vertical-align: top;\n",
       "    }\n",
       "\n",
       "    .dataframe thead th {\n",
       "        text-align: right;\n",
       "    }\n",
       "</style>\n",
       "<table border=\"1\" class=\"dataframe\">\n",
       "  <thead>\n",
       "    <tr style=\"text-align: right;\">\n",
       "      <th></th>\n",
       "      <th>SKY_QUADRANT</th>\n",
       "      <th>NUM_PLANETS</th>\n",
       "    </tr>\n",
       "  </thead>\n",
       "  <tbody>\n",
       "    <tr>\n",
       "      <th>0</th>\n",
       "      <td>Q4</td>\n",
       "      <td>407</td>\n",
       "    </tr>\n",
       "    <tr>\n",
       "      <th>1</th>\n",
       "      <td>Q2</td>\n",
       "      <td>447</td>\n",
       "    </tr>\n",
       "    <tr>\n",
       "      <th>2</th>\n",
       "      <td>Q3</td>\n",
       "      <td>436</td>\n",
       "    </tr>\n",
       "    <tr>\n",
       "      <th>3</th>\n",
       "      <td>Q1</td>\n",
       "      <td>3108</td>\n",
       "    </tr>\n",
       "  </tbody>\n",
       "</table>\n",
       "</div>"
      ],
      "text/plain": [
       "  SKY_QUADRANT  NUM_PLANETS\n",
       "0           Q4          407\n",
       "1           Q2          447\n",
       "2           Q3          436\n",
       "3           Q1         3108"
      ]
     },
     "execution_count": 114,
     "metadata": {},
     "output_type": "execute_result"
    }
   ],
   "source": [
    "# 10. Count of planets by quadrant (RA/DEC)\n",
    "q10 = pd.read_sql(\"\"\"\n",
    "SELECT\n",
    "    CASE\n",
    "        WHEN RIGHT_ASCENSION_DEG > 180 AND declination_deg > 0 THEN 'Q1'\n",
    "        WHEN RIGHT_ASCENSION_DEG <= 180 AND declination_deg > 0 THEN 'Q2'\n",
    "        WHEN RIGHT_ASCENSION_DEG <= 180 AND declination_deg <= 0 THEN 'Q3'\n",
    "        ELSE 'Q4'\n",
    "    END AS sky_quadrant,\n",
    "    COUNT(*) AS num_planets\n",
    "FROM TRANSFORM_EXOPLANET\n",
    "GROUP BY sky_quadrant\n",
    "\"\"\", conn)\n",
    "q10.head()\n"
   ]
  },
  {
   "cell_type": "code",
   "execution_count": 130,
   "id": "15beaa4b",
   "metadata": {},
   "outputs": [
    {
     "name": "stderr",
     "output_type": "stream",
     "text": [
      "/var/folders/dt/1r2bkrkj763_hbb3yn7x007h0000gn/T/ipykernel_4881/1264094043.py:2: UserWarning: pandas only supports SQLAlchemy connectable (engine/connection) or database string URI or sqlite3 DBAPI2 connection. Other DBAPI2 objects are not tested. Please consider using SQLAlchemy.\n",
      "  q11 = pd.read_sql(\"\"\"\n"
     ]
    },
    {
     "data": {
      "text/html": [
       "<div>\n",
       "<style scoped>\n",
       "    .dataframe tbody tr th:only-of-type {\n",
       "        vertical-align: middle;\n",
       "    }\n",
       "\n",
       "    .dataframe tbody tr th {\n",
       "        vertical-align: top;\n",
       "    }\n",
       "\n",
       "    .dataframe thead th {\n",
       "        text-align: right;\n",
       "    }\n",
       "</style>\n",
       "<table border=\"1\" class=\"dataframe\">\n",
       "  <thead>\n",
       "    <tr style=\"text-align: right;\">\n",
       "      <th></th>\n",
       "      <th>DISCOVERY_METHOD</th>\n",
       "      <th>STDDEV_PLANET_EQ_TEMPERATURE_K</th>\n",
       "    </tr>\n",
       "  </thead>\n",
       "  <tbody>\n",
       "    <tr>\n",
       "      <th>0</th>\n",
       "      <td>Orbital Brightness Modulation</td>\n",
       "      <td>NaN</td>\n",
       "    </tr>\n",
       "    <tr>\n",
       "      <th>1</th>\n",
       "      <td>Imaging</td>\n",
       "      <td>692.819441</td>\n",
       "    </tr>\n",
       "    <tr>\n",
       "      <th>2</th>\n",
       "      <td>Transit</td>\n",
       "      <td>450.822489</td>\n",
       "    </tr>\n",
       "    <tr>\n",
       "      <th>3</th>\n",
       "      <td>Transit Timing Variations</td>\n",
       "      <td>383.868930</td>\n",
       "    </tr>\n",
       "    <tr>\n",
       "      <th>4</th>\n",
       "      <td>Radial Velocity</td>\n",
       "      <td>347.400861</td>\n",
       "    </tr>\n",
       "  </tbody>\n",
       "</table>\n",
       "</div>"
      ],
      "text/plain": [
       "                DISCOVERY_METHOD  STDDEV_PLANET_EQ_TEMPERATURE_K\n",
       "0  Orbital Brightness Modulation                             NaN\n",
       "1                        Imaging                      692.819441\n",
       "2                        Transit                      450.822489\n",
       "3      Transit Timing Variations                      383.868930\n",
       "4                Radial Velocity                      347.400861"
      ]
     },
     "execution_count": 130,
     "metadata": {},
     "output_type": "execute_result"
    }
   ],
   "source": [
    "# 11. Standard deviation of planet temperatures by discovery method\n",
    "q11 = pd.read_sql(\"\"\"\n",
    "SELECT discovery_method, STDDEV(planet_eq_temperature_k) as stddev_planet_eq_temperature_k\n",
    "FROM TRANSFORM_EXOPLANET\n",
    "GROUP BY discovery_method \n",
    "ORDER BY stddev_planet_eq_temperature_k DESC\n",
    "\"\"\",conn)\n",
    "q11.head()\n"
   ]
  },
  {
   "cell_type": "code",
   "execution_count": 132,
   "id": "50d41d2f",
   "metadata": {},
   "outputs": [
    {
     "name": "stderr",
     "output_type": "stream",
     "text": [
      "/var/folders/dt/1r2bkrkj763_hbb3yn7x007h0000gn/T/ipykernel_4881/3419554371.py:2: UserWarning: pandas only supports SQLAlchemy connectable (engine/connection) or database string URI or sqlite3 DBAPI2 connection. Other DBAPI2 objects are not tested. Please consider using SQLAlchemy.\n",
      "  q12 = pd.read_sql(\"\"\"\n"
     ]
    },
    {
     "data": {
      "text/html": [
       "<div>\n",
       "<style scoped>\n",
       "    .dataframe tbody tr th:only-of-type {\n",
       "        vertical-align: middle;\n",
       "    }\n",
       "\n",
       "    .dataframe tbody tr th {\n",
       "        vertical-align: top;\n",
       "    }\n",
       "\n",
       "    .dataframe thead th {\n",
       "        text-align: right;\n",
       "    }\n",
       "</style>\n",
       "<table border=\"1\" class=\"dataframe\">\n",
       "  <thead>\n",
       "    <tr style=\"text-align: right;\">\n",
       "      <th></th>\n",
       "      <th>RIGHT_ASCENSION_DEG</th>\n",
       "      <th>DECLINATION_DEG</th>\n",
       "      <th>PLANET_EQ_TEMPERATURE_K</th>\n",
       "      <th>STAR_METALLICITY_DEX</th>\n",
       "      <th>DISCOVERY_METHOD</th>\n",
       "      <th>CONTROVERSIAL_FLAG</th>\n",
       "      <th>ORBITAL_AXIS_LIMIT</th>\n",
       "    </tr>\n",
       "  </thead>\n",
       "  <tbody>\n",
       "    <tr>\n",
       "      <th>0</th>\n",
       "      <td>242.376234</td>\n",
       "      <td>-21.083140</td>\n",
       "      <td>1700.0</td>\n",
       "      <td>0.01486</td>\n",
       "      <td>Imaging</td>\n",
       "      <td>0.0</td>\n",
       "      <td>0.0</td>\n",
       "    </tr>\n",
       "    <tr>\n",
       "      <th>1</th>\n",
       "      <td>69.340553</td>\n",
       "      <td>26.850300</td>\n",
       "      <td>1450.0</td>\n",
       "      <td>0.01000</td>\n",
       "      <td>Imaging</td>\n",
       "      <td>0.0</td>\n",
       "      <td>0.0</td>\n",
       "    </tr>\n",
       "    <tr>\n",
       "      <th>2</th>\n",
       "      <td>20.712801</td>\n",
       "      <td>-24.664613</td>\n",
       "      <td>1600.0</td>\n",
       "      <td>0.01486</td>\n",
       "      <td>Imaging</td>\n",
       "      <td>0.0</td>\n",
       "      <td>0.0</td>\n",
       "    </tr>\n",
       "    <tr>\n",
       "      <th>3</th>\n",
       "      <td>59.791103</td>\n",
       "      <td>20.159976</td>\n",
       "      <td>2369.0</td>\n",
       "      <td>0.01486</td>\n",
       "      <td>Imaging</td>\n",
       "      <td>0.0</td>\n",
       "      <td>0.0</td>\n",
       "    </tr>\n",
       "    <tr>\n",
       "      <th>4</th>\n",
       "      <td>165.329539</td>\n",
       "      <td>-77.544091</td>\n",
       "      <td>2677.0</td>\n",
       "      <td>0.01486</td>\n",
       "      <td>Imaging</td>\n",
       "      <td>0.0</td>\n",
       "      <td>0.0</td>\n",
       "    </tr>\n",
       "  </tbody>\n",
       "</table>\n",
       "</div>"
      ],
      "text/plain": [
       "   RIGHT_ASCENSION_DEG  DECLINATION_DEG  PLANET_EQ_TEMPERATURE_K  \\\n",
       "0           242.376234       -21.083140                   1700.0   \n",
       "1            69.340553        26.850300                   1450.0   \n",
       "2            20.712801       -24.664613                   1600.0   \n",
       "3            59.791103        20.159976                   2369.0   \n",
       "4           165.329539       -77.544091                   2677.0   \n",
       "\n",
       "   STAR_METALLICITY_DEX DISCOVERY_METHOD  CONTROVERSIAL_FLAG  \\\n",
       "0               0.01486          Imaging                 0.0   \n",
       "1               0.01000          Imaging                 0.0   \n",
       "2               0.01486          Imaging                 0.0   \n",
       "3               0.01486          Imaging                 0.0   \n",
       "4               0.01486          Imaging                 0.0   \n",
       "\n",
       "   ORBITAL_AXIS_LIMIT  \n",
       "0                 0.0  \n",
       "1                 0.0  \n",
       "2                 0.0  \n",
       "3                 0.0  \n",
       "4                 0.0  "
      ]
     },
     "execution_count": 132,
     "metadata": {},
     "output_type": "execute_result"
    }
   ],
   "source": [
    "# 12. Planets with temperature above the average temperature\n",
    "q12 = pd.read_sql(\"\"\"\n",
    "SELECT *\n",
    "FROM TRANSFORM_EXOPLANET\n",
    "WHERE planet_eq_temperature_k > (SELECT AVG(planet_eq_temperature_k) FROM EXOPLANET_DATA.TRANSFORM_EXOPLANET);\n",
    "\"\"\",conn)\n",
    "q12.head()"
   ]
  },
  {
   "cell_type": "code",
   "execution_count": 135,
   "id": "243018a3",
   "metadata": {},
   "outputs": [
    {
     "name": "stderr",
     "output_type": "stream",
     "text": [
      "/var/folders/dt/1r2bkrkj763_hbb3yn7x007h0000gn/T/ipykernel_4881/3629945845.py:2: UserWarning: pandas only supports SQLAlchemy connectable (engine/connection) or database string URI or sqlite3 DBAPI2 connection. Other DBAPI2 objects are not tested. Please consider using SQLAlchemy.\n",
      "  q13 = pd.read_sql(\"\"\"\n"
     ]
    },
    {
     "data": {
      "text/html": [
       "<div>\n",
       "<style scoped>\n",
       "    .dataframe tbody tr th:only-of-type {\n",
       "        vertical-align: middle;\n",
       "    }\n",
       "\n",
       "    .dataframe tbody tr th {\n",
       "        vertical-align: top;\n",
       "    }\n",
       "\n",
       "    .dataframe thead th {\n",
       "        text-align: right;\n",
       "    }\n",
       "</style>\n",
       "<table border=\"1\" class=\"dataframe\">\n",
       "  <thead>\n",
       "    <tr style=\"text-align: right;\">\n",
       "      <th></th>\n",
       "      <th>DISCOVERY_METHOD</th>\n",
       "      <th>COUNT</th>\n",
       "    </tr>\n",
       "  </thead>\n",
       "  <tbody>\n",
       "    <tr>\n",
       "      <th>0</th>\n",
       "      <td>Transit</td>\n",
       "      <td>495</td>\n",
       "    </tr>\n",
       "    <tr>\n",
       "      <th>1</th>\n",
       "      <td>Radial Velocity</td>\n",
       "      <td>22</td>\n",
       "    </tr>\n",
       "    <tr>\n",
       "      <th>2</th>\n",
       "      <td>Transit Timing Variations</td>\n",
       "      <td>3</td>\n",
       "    </tr>\n",
       "    <tr>\n",
       "      <th>3</th>\n",
       "      <td>Imaging</td>\n",
       "      <td>2</td>\n",
       "    </tr>\n",
       "  </tbody>\n",
       "</table>\n",
       "</div>"
      ],
      "text/plain": [
       "            DISCOVERY_METHOD  COUNT\n",
       "0                    Transit    495\n",
       "1            Radial Velocity     22\n",
       "2  Transit Timing Variations      3\n",
       "3                    Imaging      2"
      ]
     },
     "execution_count": 135,
     "metadata": {},
     "output_type": "execute_result"
    }
   ],
   "source": [
    "# 13. Discovery methods with planets orbiting metal-rich stars (> 0.2 dex)\n",
    "q13 = pd.read_sql(\"\"\"\n",
    "SELECT discovery_method, COUNT(*) AS count\n",
    "FROM EXOPLANET_DATA.TRANSFORM_EXOPLANET\n",
    "WHERE star_metallicity_dex > 0.2\n",
    "GROUP BY discovery_method\n",
    "ORDER BY count DESC\n",
    "\"\"\",conn)\n",
    "q13.head()\n",
    "\n"
   ]
  },
  {
   "cell_type": "code",
   "execution_count": 136,
   "id": "39a2b2bb",
   "metadata": {},
   "outputs": [
    {
     "name": "stderr",
     "output_type": "stream",
     "text": [
      "/var/folders/dt/1r2bkrkj763_hbb3yn7x007h0000gn/T/ipykernel_4881/1608312379.py:2: UserWarning: pandas only supports SQLAlchemy connectable (engine/connection) or database string URI or sqlite3 DBAPI2 connection. Other DBAPI2 objects are not tested. Please consider using SQLAlchemy.\n",
      "  q14 = pd.read_sql(\"\"\"\n"
     ]
    },
    {
     "data": {
      "text/html": [
       "<div>\n",
       "<style scoped>\n",
       "    .dataframe tbody tr th:only-of-type {\n",
       "        vertical-align: middle;\n",
       "    }\n",
       "\n",
       "    .dataframe tbody tr th {\n",
       "        vertical-align: top;\n",
       "    }\n",
       "\n",
       "    .dataframe thead th {\n",
       "        text-align: right;\n",
       "    }\n",
       "</style>\n",
       "<table border=\"1\" class=\"dataframe\">\n",
       "  <thead>\n",
       "    <tr style=\"text-align: right;\">\n",
       "      <th></th>\n",
       "      <th>RIGHT_ASCENSION_DEG</th>\n",
       "      <th>DECLINATION_DEG</th>\n",
       "      <th>PLANET_EQ_TEMPERATURE_K</th>\n",
       "      <th>STAR_METALLICITY_DEX</th>\n",
       "      <th>DISCOVERY_METHOD</th>\n",
       "      <th>CONTROVERSIAL_FLAG</th>\n",
       "      <th>ORBITAL_AXIS_LIMIT</th>\n",
       "    </tr>\n",
       "  </thead>\n",
       "  <tbody>\n",
       "    <tr>\n",
       "      <th>0</th>\n",
       "      <td>292.658525</td>\n",
       "      <td>38.345556</td>\n",
       "      <td>134.4</td>\n",
       "      <td>0.02000</td>\n",
       "      <td>Transit</td>\n",
       "      <td>0.0</td>\n",
       "      <td>0.0</td>\n",
       "    </tr>\n",
       "    <tr>\n",
       "      <th>1</th>\n",
       "      <td>284.415675</td>\n",
       "      <td>53.509024</td>\n",
       "      <td>163.0</td>\n",
       "      <td>0.01486</td>\n",
       "      <td>Transit</td>\n",
       "      <td>0.0</td>\n",
       "      <td>0.0</td>\n",
       "    </tr>\n",
       "    <tr>\n",
       "      <th>2</th>\n",
       "      <td>291.585255</td>\n",
       "      <td>45.715874</td>\n",
       "      <td>166.0</td>\n",
       "      <td>0.05000</td>\n",
       "      <td>Transit</td>\n",
       "      <td>0.0</td>\n",
       "      <td>0.0</td>\n",
       "    </tr>\n",
       "    <tr>\n",
       "      <th>3</th>\n",
       "      <td>346.626392</td>\n",
       "      <td>-5.043462</td>\n",
       "      <td>171.7</td>\n",
       "      <td>0.04000</td>\n",
       "      <td>Transit</td>\n",
       "      <td>0.0</td>\n",
       "      <td>0.0</td>\n",
       "    </tr>\n",
       "    <tr>\n",
       "      <th>4</th>\n",
       "      <td>298.652736</td>\n",
       "      <td>43.954988</td>\n",
       "      <td>177.0</td>\n",
       "      <td>-0.26000</td>\n",
       "      <td>Transit</td>\n",
       "      <td>1.0</td>\n",
       "      <td>0.0</td>\n",
       "    </tr>\n",
       "  </tbody>\n",
       "</table>\n",
       "</div>"
      ],
      "text/plain": [
       "   RIGHT_ASCENSION_DEG  DECLINATION_DEG  PLANET_EQ_TEMPERATURE_K  \\\n",
       "0           292.658525        38.345556                    134.4   \n",
       "1           284.415675        53.509024                    163.0   \n",
       "2           291.585255        45.715874                    166.0   \n",
       "3           346.626392        -5.043462                    171.7   \n",
       "4           298.652736        43.954988                    177.0   \n",
       "\n",
       "   STAR_METALLICITY_DEX DISCOVERY_METHOD  CONTROVERSIAL_FLAG  \\\n",
       "0               0.02000          Transit                 0.0   \n",
       "1               0.01486          Transit                 0.0   \n",
       "2               0.05000          Transit                 0.0   \n",
       "3               0.04000          Transit                 0.0   \n",
       "4              -0.26000          Transit                 1.0   \n",
       "\n",
       "   ORBITAL_AXIS_LIMIT  \n",
       "0                 0.0  \n",
       "1                 0.0  \n",
       "2                 0.0  \n",
       "3                 0.0  \n",
       "4                 0.0  "
      ]
     },
     "execution_count": 136,
     "metadata": {},
     "output_type": "execute_result"
    }
   ],
   "source": [
    "# 14. Coolest 5 planets discovered via Transit method\n",
    "q14 = pd.read_sql(\"\"\"\n",
    "SELECT *\n",
    "FROM EXOPLANET_DATA.TRANSFORM_EXOPLANET\n",
    "WHERE discovery_method = 'Transit'\n",
    "ORDER BY planet_eq_temperature_k ASC\n",
    "LIMIT 5;\n",
    "\"\"\",conn)\n",
    "q14.head()"
   ]
  },
  {
   "cell_type": "code",
   "execution_count": 138,
   "id": "495049d4",
   "metadata": {},
   "outputs": [
    {
     "name": "stderr",
     "output_type": "stream",
     "text": [
      "/var/folders/dt/1r2bkrkj763_hbb3yn7x007h0000gn/T/ipykernel_4881/3440652503.py:2: UserWarning: pandas only supports SQLAlchemy connectable (engine/connection) or database string URI or sqlite3 DBAPI2 connection. Other DBAPI2 objects are not tested. Please consider using SQLAlchemy.\n",
      "  q15 = pd.read_sql(\"\"\"\n"
     ]
    },
    {
     "data": {
      "text/html": [
       "<div>\n",
       "<style scoped>\n",
       "    .dataframe tbody tr th:only-of-type {\n",
       "        vertical-align: middle;\n",
       "    }\n",
       "\n",
       "    .dataframe tbody tr th {\n",
       "        vertical-align: top;\n",
       "    }\n",
       "\n",
       "    .dataframe thead th {\n",
       "        text-align: right;\n",
       "    }\n",
       "</style>\n",
       "<table border=\"1\" class=\"dataframe\">\n",
       "  <thead>\n",
       "    <tr style=\"text-align: right;\">\n",
       "      <th></th>\n",
       "      <th>HEMISPHERE</th>\n",
       "      <th>AVG_TEMP</th>\n",
       "      <th>AVG_METALLICITY</th>\n",
       "    </tr>\n",
       "  </thead>\n",
       "  <tbody>\n",
       "    <tr>\n",
       "      <th>0</th>\n",
       "      <td>South</td>\n",
       "      <td>1065.095208</td>\n",
       "      <td>0.021597</td>\n",
       "    </tr>\n",
       "    <tr>\n",
       "      <th>1</th>\n",
       "      <td>North</td>\n",
       "      <td>876.739415</td>\n",
       "      <td>0.013262</td>\n",
       "    </tr>\n",
       "  </tbody>\n",
       "</table>\n",
       "</div>"
      ],
      "text/plain": [
       "  HEMISPHERE     AVG_TEMP  AVG_METALLICITY\n",
       "0      South  1065.095208         0.021597\n",
       "1      North   876.739415         0.013262"
      ]
     },
     "execution_count": 138,
     "metadata": {},
     "output_type": "execute_result"
    }
   ],
   "source": [
    "# 15. Average temperature and metallicity by hemisphere\n",
    "q15 = pd.read_sql(\"\"\"\n",
    "SELECT\n",
    "  CASE WHEN declination_deg >= 0 THEN 'North' ELSE 'South' END AS hemisphere,\n",
    "  AVG(planet_eq_temperature_k) AS avg_temp,\n",
    "  AVG(star_metallicity_dex) AS avg_metallicity\n",
    "FROM EXOPLANET_DATA.TRANSFORM_EXOPLANET\n",
    "GROUP BY hemisphere;\n",
    "\"\"\",conn)\n",
    "q15.head()"
   ]
  },
  {
   "cell_type": "code",
   "execution_count": 139,
   "id": "fb1dc4f2",
   "metadata": {},
   "outputs": [
    {
     "name": "stderr",
     "output_type": "stream",
     "text": [
      "/var/folders/dt/1r2bkrkj763_hbb3yn7x007h0000gn/T/ipykernel_4881/2765486532.py:2: UserWarning: pandas only supports SQLAlchemy connectable (engine/connection) or database string URI or sqlite3 DBAPI2 connection. Other DBAPI2 objects are not tested. Please consider using SQLAlchemy.\n",
      "  q16 = pd.read_sql(\"\"\"\n"
     ]
    },
    {
     "data": {
      "text/html": [
       "<div>\n",
       "<style scoped>\n",
       "    .dataframe tbody tr th:only-of-type {\n",
       "        vertical-align: middle;\n",
       "    }\n",
       "\n",
       "    .dataframe tbody tr th {\n",
       "        vertical-align: top;\n",
       "    }\n",
       "\n",
       "    .dataframe thead th {\n",
       "        text-align: right;\n",
       "    }\n",
       "</style>\n",
       "<table border=\"1\" class=\"dataframe\">\n",
       "  <thead>\n",
       "    <tr style=\"text-align: right;\">\n",
       "      <th></th>\n",
       "      <th>HEMISPHERE</th>\n",
       "      <th>CONTROVERSIAL_COUNT</th>\n",
       "    </tr>\n",
       "  </thead>\n",
       "  <tbody>\n",
       "    <tr>\n",
       "      <th>0</th>\n",
       "      <td>North</td>\n",
       "      <td>9</td>\n",
       "    </tr>\n",
       "    <tr>\n",
       "      <th>1</th>\n",
       "      <td>South</td>\n",
       "      <td>1</td>\n",
       "    </tr>\n",
       "  </tbody>\n",
       "</table>\n",
       "</div>"
      ],
      "text/plain": [
       "  HEMISPHERE  CONTROVERSIAL_COUNT\n",
       "0      North                    9\n",
       "1      South                    1"
      ]
     },
     "execution_count": 139,
     "metadata": {},
     "output_type": "execute_result"
    }
   ],
   "source": [
    "# 16. Count of controversial planets by hemisphere\n",
    "q16 = pd.read_sql(\"\"\"\n",
    "SELECT\n",
    "  CASE WHEN declination_deg >= 0 THEN 'North' ELSE 'South' END AS hemisphere,\n",
    "  COUNT(*) AS controversial_count\n",
    "FROM EXOPLANET_DATA.TRANSFORM_EXOPLANET\n",
    "WHERE controversial_flag = 1\n",
    "GROUP BY hemisphere;\n",
    "\"\"\",conn)\n",
    "q16.head()"
   ]
  },
  {
   "cell_type": "code",
   "execution_count": 140,
   "id": "9bd07ebf",
   "metadata": {},
   "outputs": [
    {
     "name": "stderr",
     "output_type": "stream",
     "text": [
      "/var/folders/dt/1r2bkrkj763_hbb3yn7x007h0000gn/T/ipykernel_4881/2205321837.py:2: UserWarning: pandas only supports SQLAlchemy connectable (engine/connection) or database string URI or sqlite3 DBAPI2 connection. Other DBAPI2 objects are not tested. Please consider using SQLAlchemy.\n",
      "  q17 = pd.read_sql(\"\"\"\n"
     ]
    },
    {
     "data": {
      "text/html": [
       "<div>\n",
       "<style scoped>\n",
       "    .dataframe tbody tr th:only-of-type {\n",
       "        vertical-align: middle;\n",
       "    }\n",
       "\n",
       "    .dataframe tbody tr th {\n",
       "        vertical-align: top;\n",
       "    }\n",
       "\n",
       "    .dataframe thead th {\n",
       "        text-align: right;\n",
       "    }\n",
       "</style>\n",
       "<table border=\"1\" class=\"dataframe\">\n",
       "  <thead>\n",
       "    <tr style=\"text-align: right;\">\n",
       "      <th></th>\n",
       "      <th>RIGHT_ASCENSION_DEG</th>\n",
       "      <th>DECLINATION_DEG</th>\n",
       "      <th>PLANET_EQ_TEMPERATURE_K</th>\n",
       "      <th>STAR_METALLICITY_DEX</th>\n",
       "      <th>DISCOVERY_METHOD</th>\n",
       "      <th>CONTROVERSIAL_FLAG</th>\n",
       "      <th>ORBITAL_AXIS_LIMIT</th>\n",
       "    </tr>\n",
       "  </thead>\n",
       "  <tbody>\n",
       "    <tr>\n",
       "      <th>0</th>\n",
       "      <td>207.206124</td>\n",
       "      <td>-17.609898</td>\n",
       "      <td>866.0</td>\n",
       "      <td>-0.03</td>\n",
       "      <td>Transit</td>\n",
       "      <td>0.0</td>\n",
       "      <td>None</td>\n",
       "    </tr>\n",
       "    <tr>\n",
       "      <th>1</th>\n",
       "      <td>333.110074</td>\n",
       "      <td>-16.341886</td>\n",
       "      <td>960.6</td>\n",
       "      <td>-0.13</td>\n",
       "      <td>Transit</td>\n",
       "      <td>0.0</td>\n",
       "      <td>None</td>\n",
       "    </tr>\n",
       "    <tr>\n",
       "      <th>2</th>\n",
       "      <td>354.915467</td>\n",
       "      <td>-69.196043</td>\n",
       "      <td>850.0</td>\n",
       "      <td>0.00</td>\n",
       "      <td>Transit</td>\n",
       "      <td>0.0</td>\n",
       "      <td>None</td>\n",
       "    </tr>\n",
       "    <tr>\n",
       "      <th>3</th>\n",
       "      <td>205.444513</td>\n",
       "      <td>-10.862547</td>\n",
       "      <td>756.0</td>\n",
       "      <td>-0.18</td>\n",
       "      <td>Transit</td>\n",
       "      <td>0.0</td>\n",
       "      <td>None</td>\n",
       "    </tr>\n",
       "    <tr>\n",
       "      <th>4</th>\n",
       "      <td>207.206124</td>\n",
       "      <td>-17.609898</td>\n",
       "      <td>1149.0</td>\n",
       "      <td>-0.03</td>\n",
       "      <td>Transit</td>\n",
       "      <td>0.0</td>\n",
       "      <td>None</td>\n",
       "    </tr>\n",
       "  </tbody>\n",
       "</table>\n",
       "</div>"
      ],
      "text/plain": [
       "   RIGHT_ASCENSION_DEG  DECLINATION_DEG  PLANET_EQ_TEMPERATURE_K  \\\n",
       "0           207.206124       -17.609898                    866.0   \n",
       "1           333.110074       -16.341886                    960.6   \n",
       "2           354.915467       -69.196043                    850.0   \n",
       "3           205.444513       -10.862547                    756.0   \n",
       "4           207.206124       -17.609898                   1149.0   \n",
       "\n",
       "   STAR_METALLICITY_DEX DISCOVERY_METHOD  CONTROVERSIAL_FLAG  \\\n",
       "0                 -0.03          Transit                 0.0   \n",
       "1                 -0.13          Transit                 0.0   \n",
       "2                  0.00          Transit                 0.0   \n",
       "3                 -0.18          Transit                 0.0   \n",
       "4                 -0.03          Transit                 0.0   \n",
       "\n",
       "  ORBITAL_AXIS_LIMIT  \n",
       "0               None  \n",
       "1               None  \n",
       "2               None  \n",
       "3               None  \n",
       "4               None  "
      ]
     },
     "execution_count": 140,
     "metadata": {},
     "output_type": "execute_result"
    }
   ],
   "source": [
    "# 17. Most extreme orbital axis planets (top 5)\n",
    "q17 = pd.read_sql(\"\"\"\n",
    "SELECT *\n",
    "FROM EXOPLANET_DATA.TRANSFORM_EXOPLANET\n",
    "ORDER BY orbital_axis_limit DESC\n",
    "LIMIT 5;\n",
    "\"\"\",conn)\n",
    "q17.head()"
   ]
  },
  {
   "cell_type": "code",
   "execution_count": 143,
   "id": "3fd06018",
   "metadata": {},
   "outputs": [
    {
     "name": "stderr",
     "output_type": "stream",
     "text": [
      "/var/folders/dt/1r2bkrkj763_hbb3yn7x007h0000gn/T/ipykernel_4881/687316386.py:2: UserWarning: pandas only supports SQLAlchemy connectable (engine/connection) or database string URI or sqlite3 DBAPI2 connection. Other DBAPI2 objects are not tested. Please consider using SQLAlchemy.\n",
      "  q18 = pd.read_sql(\"\"\"\n"
     ]
    },
    {
     "data": {
      "text/html": [
       "<div>\n",
       "<style scoped>\n",
       "    .dataframe tbody tr th:only-of-type {\n",
       "        vertical-align: middle;\n",
       "    }\n",
       "\n",
       "    .dataframe tbody tr th {\n",
       "        vertical-align: top;\n",
       "    }\n",
       "\n",
       "    .dataframe thead th {\n",
       "        text-align: right;\n",
       "    }\n",
       "</style>\n",
       "<table border=\"1\" class=\"dataframe\">\n",
       "  <thead>\n",
       "    <tr style=\"text-align: right;\">\n",
       "      <th></th>\n",
       "      <th>QUADRANT</th>\n",
       "      <th>AVG_TEMP</th>\n",
       "      <th>AVG_METALLICITY</th>\n",
       "    </tr>\n",
       "  </thead>\n",
       "  <tbody>\n",
       "    <tr>\n",
       "      <th>0</th>\n",
       "      <td>Q4</td>\n",
       "      <td>1083.994914</td>\n",
       "      <td>0.024087</td>\n",
       "    </tr>\n",
       "    <tr>\n",
       "      <th>1</th>\n",
       "      <td>Q2</td>\n",
       "      <td>995.875391</td>\n",
       "      <td>0.035305</td>\n",
       "    </tr>\n",
       "    <tr>\n",
       "      <th>2</th>\n",
       "      <td>Q3</td>\n",
       "      <td>1047.452592</td>\n",
       "      <td>0.019273</td>\n",
       "    </tr>\n",
       "    <tr>\n",
       "      <th>3</th>\n",
       "      <td>Q1</td>\n",
       "      <td>859.604994</td>\n",
       "      <td>0.010092</td>\n",
       "    </tr>\n",
       "  </tbody>\n",
       "</table>\n",
       "</div>"
      ],
      "text/plain": [
       "  QUADRANT     AVG_TEMP  AVG_METALLICITY\n",
       "0       Q4  1083.994914         0.024087\n",
       "1       Q2   995.875391         0.035305\n",
       "2       Q3  1047.452592         0.019273\n",
       "3       Q1   859.604994         0.010092"
      ]
     },
     "execution_count": 143,
     "metadata": {},
     "output_type": "execute_result"
    }
   ],
   "source": [
    "# 18. Average values per quadrant of the sky (RA + DEC)\n",
    "q18 = pd.read_sql(\"\"\"\n",
    "SELECT\n",
    "  CASE\n",
    "    WHEN RIGHT_ASCENSION_DEG > 180 AND DECLINATION_DEG > 0 THEN 'Q1'\n",
    "    WHEN RIGHT_ASCENSION_DEG <= 180 AND DECLINATION_DEG > 0 THEN 'Q2'\n",
    "    WHEN RIGHT_ASCENSION_DEG <= 180 AND DECLINATION_DEG <= 0 THEN 'Q3'\n",
    "    ELSE 'Q4'\n",
    "  END AS quadrant,\n",
    "  AVG(planet_eq_temperature_k) AS avg_temp,\n",
    "  AVG(star_metallicity_dex) AS avg_metallicity\n",
    "FROM EXOPLANET_DATA.TRANSFORM_EXOPLANET\n",
    "GROUP BY quadrant;\n",
    "\"\"\",conn)\n",
    "q18.head()"
   ]
  },
  {
   "cell_type": "code",
   "execution_count": 144,
   "id": "bf91b427",
   "metadata": {},
   "outputs": [
    {
     "name": "stderr",
     "output_type": "stream",
     "text": [
      "/var/folders/dt/1r2bkrkj763_hbb3yn7x007h0000gn/T/ipykernel_4881/4085061983.py:2: UserWarning: pandas only supports SQLAlchemy connectable (engine/connection) or database string URI or sqlite3 DBAPI2 connection. Other DBAPI2 objects are not tested. Please consider using SQLAlchemy.\n",
      "  q19 = pd.read_sql(\"\"\"\n"
     ]
    },
    {
     "data": {
      "text/html": [
       "<div>\n",
       "<style scoped>\n",
       "    .dataframe tbody tr th:only-of-type {\n",
       "        vertical-align: middle;\n",
       "    }\n",
       "\n",
       "    .dataframe tbody tr th {\n",
       "        vertical-align: top;\n",
       "    }\n",
       "\n",
       "    .dataframe thead th {\n",
       "        text-align: right;\n",
       "    }\n",
       "</style>\n",
       "<table border=\"1\" class=\"dataframe\">\n",
       "  <thead>\n",
       "    <tr style=\"text-align: right;\">\n",
       "      <th></th>\n",
       "      <th>DISCOVERY_METHOD</th>\n",
       "    </tr>\n",
       "  </thead>\n",
       "  <tbody>\n",
       "    <tr>\n",
       "      <th>0</th>\n",
       "      <td>Radial Velocity</td>\n",
       "    </tr>\n",
       "    <tr>\n",
       "      <th>1</th>\n",
       "      <td>Transit</td>\n",
       "    </tr>\n",
       "  </tbody>\n",
       "</table>\n",
       "</div>"
      ],
      "text/plain": [
       "  DISCOVERY_METHOD\n",
       "0  Radial Velocity\n",
       "1          Transit"
      ]
     },
     "execution_count": 144,
     "metadata": {},
     "output_type": "execute_result"
    }
   ],
   "source": [
    "# 19. Discovery methods with both confirmed and controversial planets\n",
    "q19 = pd.read_sql(\"\"\"\n",
    "SELECT discovery_method\n",
    "FROM EXOPLANET_DATA.TRANSFORM_EXOPLANET\n",
    "GROUP BY discovery_method\n",
    "HAVING COUNT(DISTINCT controversial_flag) > 1;\n",
    "\"\"\",conn)\n",
    "q19.head()"
   ]
  },
  {
   "cell_type": "code",
   "execution_count": 147,
   "id": "62dc4df6",
   "metadata": {},
   "outputs": [
    {
     "name": "stderr",
     "output_type": "stream",
     "text": [
      "/var/folders/dt/1r2bkrkj763_hbb3yn7x007h0000gn/T/ipykernel_4881/1782481652.py:2: UserWarning: pandas only supports SQLAlchemy connectable (engine/connection) or database string URI or sqlite3 DBAPI2 connection. Other DBAPI2 objects are not tested. Please consider using SQLAlchemy.\n",
      "  q20 = pd.read_sql(\"\"\"\n"
     ]
    },
    {
     "data": {
      "text/html": [
       "<div>\n",
       "<style scoped>\n",
       "    .dataframe tbody tr th:only-of-type {\n",
       "        vertical-align: middle;\n",
       "    }\n",
       "\n",
       "    .dataframe tbody tr th {\n",
       "        vertical-align: top;\n",
       "    }\n",
       "\n",
       "    .dataframe thead th {\n",
       "        text-align: right;\n",
       "    }\n",
       "</style>\n",
       "<table border=\"1\" class=\"dataframe\">\n",
       "  <thead>\n",
       "    <tr style=\"text-align: right;\">\n",
       "      <th></th>\n",
       "      <th>DECILE</th>\n",
       "      <th>COUNT</th>\n",
       "    </tr>\n",
       "  </thead>\n",
       "  <tbody>\n",
       "    <tr>\n",
       "      <th>0</th>\n",
       "      <td>1</td>\n",
       "      <td>440</td>\n",
       "    </tr>\n",
       "    <tr>\n",
       "      <th>1</th>\n",
       "      <td>2</td>\n",
       "      <td>440</td>\n",
       "    </tr>\n",
       "    <tr>\n",
       "      <th>2</th>\n",
       "      <td>3</td>\n",
       "      <td>440</td>\n",
       "    </tr>\n",
       "    <tr>\n",
       "      <th>3</th>\n",
       "      <td>4</td>\n",
       "      <td>440</td>\n",
       "    </tr>\n",
       "    <tr>\n",
       "      <th>4</th>\n",
       "      <td>5</td>\n",
       "      <td>440</td>\n",
       "    </tr>\n",
       "  </tbody>\n",
       "</table>\n",
       "</div>"
      ],
      "text/plain": [
       "   DECILE  COUNT\n",
       "0       1    440\n",
       "1       2    440\n",
       "2       3    440\n",
       "3       4    440\n",
       "4       5    440"
      ]
     },
     "execution_count": 147,
     "metadata": {},
     "output_type": "execute_result"
    }
   ],
   "source": [
    "# 20. Temperature percentiles (deciles)\n",
    "q20 = pd.read_sql(\"\"\"\n",
    "SELECT decile,COUNT(*) AS count\n",
    "FROM (\n",
    "  SELECT\n",
    "    NTILE(10) OVER (ORDER BY planet_eq_temperature_k) AS decile\n",
    "  FROM TRANSFORM_EXOPLANET\n",
    "  WHERE planet_eq_temperature_k IS NOT NULL\n",
    ") AS sub\n",
    "GROUP BY decile\n",
    "ORDER BY decile;\n",
    "\"\"\",conn)\n",
    "q20.head()"
   ]
  },
  {
   "cell_type": "code",
   "execution_count": 149,
   "id": "8553148a",
   "metadata": {},
   "outputs": [
    {
     "name": "stderr",
     "output_type": "stream",
     "text": [
      "/var/folders/dt/1r2bkrkj763_hbb3yn7x007h0000gn/T/ipykernel_4881/1170496443.py:2: UserWarning: pandas only supports SQLAlchemy connectable (engine/connection) or database string URI or sqlite3 DBAPI2 connection. Other DBAPI2 objects are not tested. Please consider using SQLAlchemy.\n",
      "  q21 = pd.read_sql(\"\"\"\n"
     ]
    },
    {
     "data": {
      "text/html": [
       "<div>\n",
       "<style scoped>\n",
       "    .dataframe tbody tr th:only-of-type {\n",
       "        vertical-align: middle;\n",
       "    }\n",
       "\n",
       "    .dataframe tbody tr th {\n",
       "        vertical-align: top;\n",
       "    }\n",
       "\n",
       "    .dataframe thead th {\n",
       "        text-align: right;\n",
       "    }\n",
       "</style>\n",
       "<table border=\"1\" class=\"dataframe\">\n",
       "  <thead>\n",
       "    <tr style=\"text-align: right;\">\n",
       "      <th></th>\n",
       "      <th>DISCOVERY_METHOD</th>\n",
       "      <th>AVG_ORBITAL_AXIS</th>\n",
       "    </tr>\n",
       "  </thead>\n",
       "  <tbody>\n",
       "    <tr>\n",
       "      <th>0</th>\n",
       "      <td>Imaging</td>\n",
       "      <td>0.0</td>\n",
       "    </tr>\n",
       "    <tr>\n",
       "      <th>1</th>\n",
       "      <td>Radial Velocity</td>\n",
       "      <td>0.0</td>\n",
       "    </tr>\n",
       "    <tr>\n",
       "      <th>2</th>\n",
       "      <td>Transit</td>\n",
       "      <td>0.0</td>\n",
       "    </tr>\n",
       "    <tr>\n",
       "      <th>3</th>\n",
       "      <td>Transit Timing Variations</td>\n",
       "      <td>0.0</td>\n",
       "    </tr>\n",
       "    <tr>\n",
       "      <th>4</th>\n",
       "      <td>Orbital Brightness Modulation</td>\n",
       "      <td>0.0</td>\n",
       "    </tr>\n",
       "  </tbody>\n",
       "</table>\n",
       "</div>"
      ],
      "text/plain": [
       "                DISCOVERY_METHOD  AVG_ORBITAL_AXIS\n",
       "0                        Imaging               0.0\n",
       "1                Radial Velocity               0.0\n",
       "2                        Transit               0.0\n",
       "3      Transit Timing Variations               0.0\n",
       "4  Orbital Brightness Modulation               0.0"
      ]
     },
     "execution_count": 149,
     "metadata": {},
     "output_type": "execute_result"
    }
   ],
   "source": [
    "# 21. Average orbital axis for planets discovered via each discovery method?\n",
    "q21 = pd.read_sql(\"\"\"\n",
    "SELECT discovery_method , AVG(ORBITAL_AXIS_LIMIT) AS avg_orbital_axis\n",
    "FROM EXOPLANET_DATA.TRANSFORM_EXOPLANET\n",
    "GROUP BY discovery_method\n",
    "\"\"\",conn)\n",
    "q21.head()"
   ]
  },
  {
   "cell_type": "code",
   "execution_count": 150,
   "id": "24935521",
   "metadata": {},
   "outputs": [
    {
     "name": "stderr",
     "output_type": "stream",
     "text": [
      "/var/folders/dt/1r2bkrkj763_hbb3yn7x007h0000gn/T/ipykernel_4881/980413652.py:2: UserWarning: pandas only supports SQLAlchemy connectable (engine/connection) or database string URI or sqlite3 DBAPI2 connection. Other DBAPI2 objects are not tested. Please consider using SQLAlchemy.\n",
      "  q22 = pd.read_sql(\"\"\"\n"
     ]
    },
    {
     "data": {
      "text/html": [
       "<div>\n",
       "<style scoped>\n",
       "    .dataframe tbody tr th:only-of-type {\n",
       "        vertical-align: middle;\n",
       "    }\n",
       "\n",
       "    .dataframe tbody tr th {\n",
       "        vertical-align: top;\n",
       "    }\n",
       "\n",
       "    .dataframe thead th {\n",
       "        text-align: right;\n",
       "    }\n",
       "</style>\n",
       "<table border=\"1\" class=\"dataframe\">\n",
       "  <thead>\n",
       "    <tr style=\"text-align: right;\">\n",
       "      <th></th>\n",
       "      <th>COUNT_DISCOVERY_METHOD</th>\n",
       "    </tr>\n",
       "  </thead>\n",
       "  <tbody>\n",
       "    <tr>\n",
       "      <th>0</th>\n",
       "      <td>6</td>\n",
       "    </tr>\n",
       "  </tbody>\n",
       "</table>\n",
       "</div>"
      ],
      "text/plain": [
       "   COUNT_DISCOVERY_METHOD\n",
       "0                       6"
      ]
     },
     "execution_count": 150,
     "metadata": {},
     "output_type": "execute_result"
    }
   ],
   "source": [
    "# 22. How many unique discovery methods are there in the dataset?\n",
    "q22 = pd.read_sql(\"\"\"\n",
    "SELECT COUNT(DISTINCT(DISCOVERY_METHOD)) AS count_discovery_method\n",
    "FROM TRANSFORM_EXOPLANET\n",
    "\"\"\",conn)\n",
    "q22.head()"
   ]
  },
  {
   "cell_type": "code",
   "execution_count": 153,
   "id": "72f60b37",
   "metadata": {},
   "outputs": [
    {
     "name": "stderr",
     "output_type": "stream",
     "text": [
      "/var/folders/dt/1r2bkrkj763_hbb3yn7x007h0000gn/T/ipykernel_4881/725667191.py:2: UserWarning: pandas only supports SQLAlchemy connectable (engine/connection) or database string URI or sqlite3 DBAPI2 connection. Other DBAPI2 objects are not tested. Please consider using SQLAlchemy.\n",
      "  q23 = pd.read_sql(\"\"\"\n"
     ]
    },
    {
     "data": {
      "text/html": [
       "<div>\n",
       "<style scoped>\n",
       "    .dataframe tbody tr th:only-of-type {\n",
       "        vertical-align: middle;\n",
       "    }\n",
       "\n",
       "    .dataframe tbody tr th {\n",
       "        vertical-align: top;\n",
       "    }\n",
       "\n",
       "    .dataframe thead th {\n",
       "        text-align: right;\n",
       "    }\n",
       "</style>\n",
       "<table border=\"1\" class=\"dataframe\">\n",
       "  <thead>\n",
       "    <tr style=\"text-align: right;\">\n",
       "      <th></th>\n",
       "      <th>HEMISPHERE</th>\n",
       "      <th>AVG_TEMP</th>\n",
       "    </tr>\n",
       "  </thead>\n",
       "  <tbody>\n",
       "    <tr>\n",
       "      <th>0</th>\n",
       "      <td>South</td>\n",
       "      <td>1065.095208</td>\n",
       "    </tr>\n",
       "    <tr>\n",
       "      <th>1</th>\n",
       "      <td>North</td>\n",
       "      <td>876.739415</td>\n",
       "    </tr>\n",
       "  </tbody>\n",
       "</table>\n",
       "</div>"
      ],
      "text/plain": [
       "  HEMISPHERE     AVG_TEMP\n",
       "0      South  1065.095208\n",
       "1      North   876.739415"
      ]
     },
     "execution_count": 153,
     "metadata": {},
     "output_type": "execute_result"
    }
   ],
   "source": [
    "# 23. Which declination hemisphere (North/South) has the higher average planet equilibrium temperature?\n",
    "q23 = pd.read_sql(\"\"\"\n",
    "SELECT hemisphere, AVG(planet_eq_temperature_k) AS avg_temp\n",
    "       FROM (\n",
    "           SELECT *, CASE WHEN declination_deg >= 0 THEN 'North' ELSE 'South' END AS hemisphere\n",
    "           FROM TRANSFORM_EXOPLANET\n",
    "       )\n",
    "       GROUP BY hemisphere\n",
    "\"\"\",conn)\n",
    "q23.head()\n"
   ]
  },
  {
   "cell_type": "code",
   "execution_count": 154,
   "id": "a8730c53",
   "metadata": {},
   "outputs": [
    {
     "name": "stderr",
     "output_type": "stream",
     "text": [
      "/var/folders/dt/1r2bkrkj763_hbb3yn7x007h0000gn/T/ipykernel_4881/2047289515.py:2: UserWarning: pandas only supports SQLAlchemy connectable (engine/connection) or database string URI or sqlite3 DBAPI2 connection. Other DBAPI2 objects are not tested. Please consider using SQLAlchemy.\n",
      "  q23 = pd.read_sql(\"\"\"\n"
     ]
    },
    {
     "data": {
      "text/html": [
       "<div>\n",
       "<style scoped>\n",
       "    .dataframe tbody tr th:only-of-type {\n",
       "        vertical-align: middle;\n",
       "    }\n",
       "\n",
       "    .dataframe tbody tr th {\n",
       "        vertical-align: top;\n",
       "    }\n",
       "\n",
       "    .dataframe thead th {\n",
       "        text-align: right;\n",
       "    }\n",
       "</style>\n",
       "<table border=\"1\" class=\"dataframe\">\n",
       "  <thead>\n",
       "    <tr style=\"text-align: right;\">\n",
       "      <th></th>\n",
       "      <th>DISCOVERY_METHOD</th>\n",
       "      <th>STDDEV_ORBITAL_AXIS</th>\n",
       "    </tr>\n",
       "  </thead>\n",
       "  <tbody>\n",
       "    <tr>\n",
       "      <th>0</th>\n",
       "      <td>Imaging</td>\n",
       "      <td>0.0</td>\n",
       "    </tr>\n",
       "    <tr>\n",
       "      <th>1</th>\n",
       "      <td>Radial Velocity</td>\n",
       "      <td>0.0</td>\n",
       "    </tr>\n",
       "    <tr>\n",
       "      <th>2</th>\n",
       "      <td>Transit</td>\n",
       "      <td>0.0</td>\n",
       "    </tr>\n",
       "    <tr>\n",
       "      <th>3</th>\n",
       "      <td>Transit Timing Variations</td>\n",
       "      <td>0.0</td>\n",
       "    </tr>\n",
       "    <tr>\n",
       "      <th>4</th>\n",
       "      <td>Orbital Brightness Modulation</td>\n",
       "      <td>NaN</td>\n",
       "    </tr>\n",
       "  </tbody>\n",
       "</table>\n",
       "</div>"
      ],
      "text/plain": [
       "                DISCOVERY_METHOD  STDDEV_ORBITAL_AXIS\n",
       "0                        Imaging                  0.0\n",
       "1                Radial Velocity                  0.0\n",
       "2                        Transit                  0.0\n",
       "3      Transit Timing Variations                  0.0\n",
       "4  Orbital Brightness Modulation                  NaN"
      ]
     },
     "execution_count": 154,
     "metadata": {},
     "output_type": "execute_result"
    }
   ],
   "source": [
    "# 24. What is the standard deviation of orbital axis for each discovery method?\n",
    "q24 = pd.read_sql(\"\"\"\n",
    "SELECT discovery_method, STDDEV(orbital_axis_limit) AS stddev_orbital_axis\n",
    "       FROM TRANSFORM_EXOPLANET\n",
    "       GROUP BY discovery_method\n",
    "\"\"\",conn)\n",
    "q24.head()"
   ]
  },
  {
   "cell_type": "code",
   "execution_count": 156,
   "id": "8a255a3d",
   "metadata": {},
   "outputs": [
    {
     "name": "stderr",
     "output_type": "stream",
     "text": [
      "/var/folders/dt/1r2bkrkj763_hbb3yn7x007h0000gn/T/ipykernel_4881/1005741128.py:2: UserWarning: pandas only supports SQLAlchemy connectable (engine/connection) or database string URI or sqlite3 DBAPI2 connection. Other DBAPI2 objects are not tested. Please consider using SQLAlchemy.\n",
      "  q25 = pd.read_sql(\"\"\"\n"
     ]
    },
    {
     "data": {
      "text/html": [
       "<div>\n",
       "<style scoped>\n",
       "    .dataframe tbody tr th:only-of-type {\n",
       "        vertical-align: middle;\n",
       "    }\n",
       "\n",
       "    .dataframe tbody tr th {\n",
       "        vertical-align: top;\n",
       "    }\n",
       "\n",
       "    .dataframe thead th {\n",
       "        text-align: right;\n",
       "    }\n",
       "</style>\n",
       "<table border=\"1\" class=\"dataframe\">\n",
       "  <thead>\n",
       "    <tr style=\"text-align: right;\">\n",
       "      <th></th>\n",
       "      <th>HIGH_METALLICITY_PLANETS</th>\n",
       "    </tr>\n",
       "  </thead>\n",
       "  <tbody>\n",
       "    <tr>\n",
       "      <th>0</th>\n",
       "      <td>1595</td>\n",
       "    </tr>\n",
       "  </tbody>\n",
       "</table>\n",
       "</div>"
      ],
      "text/plain": [
       "   HIGH_METALLICITY_PLANETS\n",
       "0                      1595"
      ]
     },
     "execution_count": 156,
     "metadata": {},
     "output_type": "execute_result"
    }
   ],
   "source": [
    "# 25. How many planets have star metallicity greater than 0.05?\n",
    "q25 = pd.read_sql(\"\"\"\n",
    "SELECT COUNT(*) AS high_metallicity_planets\n",
    "       FROM TRANSFORM_EXOPLANET\n",
    "       WHERE star_metallicity_dex > 0.05\n",
    "\"\"\",conn)\n",
    "q25.head()"
   ]
  },
  {
   "cell_type": "code",
   "execution_count": 157,
   "id": "6dfaae2e",
   "metadata": {},
   "outputs": [
    {
     "name": "stderr",
     "output_type": "stream",
     "text": [
      "/var/folders/dt/1r2bkrkj763_hbb3yn7x007h0000gn/T/ipykernel_4881/1274754483.py:2: UserWarning: pandas only supports SQLAlchemy connectable (engine/connection) or database string URI or sqlite3 DBAPI2 connection. Other DBAPI2 objects are not tested. Please consider using SQLAlchemy.\n",
      "  q26 = pd.read_sql(\"\"\"\n"
     ]
    },
    {
     "data": {
      "text/html": [
       "<div>\n",
       "<style scoped>\n",
       "    .dataframe tbody tr th:only-of-type {\n",
       "        vertical-align: middle;\n",
       "    }\n",
       "\n",
       "    .dataframe tbody tr th {\n",
       "        vertical-align: top;\n",
       "    }\n",
       "\n",
       "    .dataframe thead th {\n",
       "        text-align: right;\n",
       "    }\n",
       "</style>\n",
       "<table border=\"1\" class=\"dataframe\">\n",
       "  <thead>\n",
       "    <tr style=\"text-align: right;\">\n",
       "      <th></th>\n",
       "      <th>HIGH_METALLICITY_PLANETS</th>\n",
       "    </tr>\n",
       "  </thead>\n",
       "  <tbody>\n",
       "    <tr>\n",
       "      <th>0</th>\n",
       "      <td>1595</td>\n",
       "    </tr>\n",
       "  </tbody>\n",
       "</table>\n",
       "</div>"
      ],
      "text/plain": [
       "   HIGH_METALLICITY_PLANETS\n",
       "0                      1595"
      ]
     },
     "execution_count": 157,
     "metadata": {},
     "output_type": "execute_result"
    }
   ],
   "source": [
    "# 26. Which discovery method has the most controversial planets?\n",
    "q26 = pd.read_sql(\"\"\"\n",
    "SELECT COUNT(*) AS high_metallicity_planets\n",
    "       FROM TRANSFORM_EXOPLANET\n",
    "       WHERE star_metallicity_dex > 0.05\n",
    "\"\"\",conn)\n",
    "q26.head()      \n"
   ]
  },
  {
   "cell_type": "code",
   "execution_count": 158,
   "id": "a85e4556",
   "metadata": {},
   "outputs": [
    {
     "name": "stderr",
     "output_type": "stream",
     "text": [
      "/var/folders/dt/1r2bkrkj763_hbb3yn7x007h0000gn/T/ipykernel_4881/2415637848.py:2: UserWarning: pandas only supports SQLAlchemy connectable (engine/connection) or database string URI or sqlite3 DBAPI2 connection. Other DBAPI2 objects are not tested. Please consider using SQLAlchemy.\n",
      "  q27 = pd.read_sql(\"\"\"\n"
     ]
    },
    {
     "data": {
      "text/html": [
       "<div>\n",
       "<style scoped>\n",
       "    .dataframe tbody tr th:only-of-type {\n",
       "        vertical-align: middle;\n",
       "    }\n",
       "\n",
       "    .dataframe tbody tr th {\n",
       "        vertical-align: top;\n",
       "    }\n",
       "\n",
       "    .dataframe thead th {\n",
       "        text-align: right;\n",
       "    }\n",
       "</style>\n",
       "<table border=\"1\" class=\"dataframe\">\n",
       "  <thead>\n",
       "    <tr style=\"text-align: right;\">\n",
       "      <th></th>\n",
       "      <th>MAX_TEMP</th>\n",
       "      <th>MIN_TEMP</th>\n",
       "    </tr>\n",
       "  </thead>\n",
       "  <tbody>\n",
       "    <tr>\n",
       "      <th>0</th>\n",
       "      <td>4050.0</td>\n",
       "      <td>34.0</td>\n",
       "    </tr>\n",
       "  </tbody>\n",
       "</table>\n",
       "</div>"
      ],
      "text/plain": [
       "   MAX_TEMP  MIN_TEMP\n",
       "0    4050.0      34.0"
      ]
     },
     "execution_count": 158,
     "metadata": {},
     "output_type": "execute_result"
    }
   ],
   "source": [
    "# 27. What’s the max and min equilibrium temperature recorded in the dataset?\n",
    "q27 = pd.read_sql(\"\"\"\n",
    "SELECT MAX(planet_eq_temperature_k) AS max_temp, MIN(planet_eq_temperature_k) AS min_temp\n",
    "       FROM TRANSFORM_EXOPLANET\n",
    "\"\"\",conn)\n",
    "q27.head()       \n",
    "    "
   ]
  },
  {
   "cell_type": "code",
   "execution_count": 159,
   "id": "cae684b7",
   "metadata": {},
   "outputs": [
    {
     "name": "stderr",
     "output_type": "stream",
     "text": [
      "/var/folders/dt/1r2bkrkj763_hbb3yn7x007h0000gn/T/ipykernel_4881/2307795085.py:2: UserWarning: pandas only supports SQLAlchemy connectable (engine/connection) or database string URI or sqlite3 DBAPI2 connection. Other DBAPI2 objects are not tested. Please consider using SQLAlchemy.\n",
      "  q28 = pd.read_sql(\"\"\"\n"
     ]
    },
    {
     "data": {
      "text/html": [
       "<div>\n",
       "<style scoped>\n",
       "    .dataframe tbody tr th:only-of-type {\n",
       "        vertical-align: middle;\n",
       "    }\n",
       "\n",
       "    .dataframe tbody tr th {\n",
       "        vertical-align: top;\n",
       "    }\n",
       "\n",
       "    .dataframe thead th {\n",
       "        text-align: right;\n",
       "    }\n",
       "</style>\n",
       "<table border=\"1\" class=\"dataframe\">\n",
       "  <thead>\n",
       "    <tr style=\"text-align: right;\">\n",
       "      <th></th>\n",
       "      <th>TEMP_BIN_START</th>\n",
       "      <th>COUNT_IN_BIN</th>\n",
       "    </tr>\n",
       "  </thead>\n",
       "  <tbody>\n",
       "    <tr>\n",
       "      <th>0</th>\n",
       "      <td>0.0</td>\n",
       "      <td>778</td>\n",
       "    </tr>\n",
       "    <tr>\n",
       "      <th>1</th>\n",
       "      <td>500.0</td>\n",
       "      <td>2076</td>\n",
       "    </tr>\n",
       "    <tr>\n",
       "      <th>2</th>\n",
       "      <td>1000.0</td>\n",
       "      <td>1022</td>\n",
       "    </tr>\n",
       "    <tr>\n",
       "      <th>3</th>\n",
       "      <td>1500.0</td>\n",
       "      <td>396</td>\n",
       "    </tr>\n",
       "    <tr>\n",
       "      <th>4</th>\n",
       "      <td>2000.0</td>\n",
       "      <td>102</td>\n",
       "    </tr>\n",
       "  </tbody>\n",
       "</table>\n",
       "</div>"
      ],
      "text/plain": [
       "   TEMP_BIN_START  COUNT_IN_BIN\n",
       "0             0.0           778\n",
       "1           500.0          2076\n",
       "2          1000.0          1022\n",
       "3          1500.0           396\n",
       "4          2000.0           102"
      ]
     },
     "execution_count": 159,
     "metadata": {},
     "output_type": "execute_result"
    }
   ],
   "source": [
    "#28. Group planets into bins of 500K based on equilibrium temperature and count how many fall into each bin.\n",
    "q28 = pd.read_sql(\"\"\"\n",
    "SELECT FLOOR(planet_eq_temperature_k / 500) * 500 AS temp_bin_start,\n",
    "              COUNT(*) AS count_in_bin\n",
    "       FROM TRANSFORM_EXOPLANET\n",
    "       WHERE planet_eq_temperature_k IS NOT NULL\n",
    "       GROUP BY temp_bin_start\n",
    "       ORDER BY temp_bin_start\n",
    "\"\"\",conn)\n",
    "q28.head()     "
   ]
  },
  {
   "cell_type": "code",
   "execution_count": 160,
   "id": "d5c299de",
   "metadata": {},
   "outputs": [
    {
     "name": "stderr",
     "output_type": "stream",
     "text": [
      "/var/folders/dt/1r2bkrkj763_hbb3yn7x007h0000gn/T/ipykernel_4881/2860514852.py:2: UserWarning: pandas only supports SQLAlchemy connectable (engine/connection) or database string URI or sqlite3 DBAPI2 connection. Other DBAPI2 objects are not tested. Please consider using SQLAlchemy.\n",
      "  q29 = pd.read_sql(\"\"\"\n"
     ]
    },
    {
     "data": {
      "text/html": [
       "<div>\n",
       "<style scoped>\n",
       "    .dataframe tbody tr th:only-of-type {\n",
       "        vertical-align: middle;\n",
       "    }\n",
       "\n",
       "    .dataframe tbody tr th {\n",
       "        vertical-align: top;\n",
       "    }\n",
       "\n",
       "    .dataframe thead th {\n",
       "        text-align: right;\n",
       "    }\n",
       "</style>\n",
       "<table border=\"1\" class=\"dataframe\">\n",
       "  <thead>\n",
       "    <tr style=\"text-align: right;\">\n",
       "      <th></th>\n",
       "      <th>HEMISPHERE</th>\n",
       "      <th>DISCOVERY_METHOD</th>\n",
       "      <th>COUNT</th>\n",
       "    </tr>\n",
       "  </thead>\n",
       "  <tbody>\n",
       "    <tr>\n",
       "      <th>0</th>\n",
       "      <td>North</td>\n",
       "      <td>Transit</td>\n",
       "      <td>3415</td>\n",
       "    </tr>\n",
       "    <tr>\n",
       "      <th>1</th>\n",
       "      <td>South</td>\n",
       "      <td>Transit</td>\n",
       "      <td>737</td>\n",
       "    </tr>\n",
       "    <tr>\n",
       "      <th>2</th>\n",
       "      <td>North</td>\n",
       "      <td>Radial Velocity</td>\n",
       "      <td>98</td>\n",
       "    </tr>\n",
       "  </tbody>\n",
       "</table>\n",
       "</div>"
      ],
      "text/plain": [
       "  HEMISPHERE DISCOVERY_METHOD  COUNT\n",
       "0      North          Transit   3415\n",
       "1      South          Transit    737\n",
       "2      North  Radial Velocity     98"
      ]
     },
     "execution_count": 160,
     "metadata": {},
     "output_type": "execute_result"
    }
   ],
   "source": [
    "#29. Find the top 3 most common combinations of hemisphere and discovery method\n",
    "q29 = pd.read_sql(\"\"\"\n",
    "SELECT hemisphere, discovery_method, COUNT(*) AS count\n",
    "       FROM (\n",
    "           SELECT *, CASE WHEN declination_deg >= 0 THEN 'North' ELSE 'South' END AS hemisphere\n",
    "           FROM TRANSFORM_EXOPLANET\n",
    "       )\n",
    "       GROUP BY hemisphere, discovery_method\n",
    "       ORDER BY count DESC\n",
    "       LIMIT 3\n",
    "\"\"\",conn)\n",
    "q29.head()    "
   ]
  },
  {
   "cell_type": "code",
   "execution_count": 161,
   "id": "1295fd3b",
   "metadata": {},
   "outputs": [
    {
     "name": "stderr",
     "output_type": "stream",
     "text": [
      "/var/folders/dt/1r2bkrkj763_hbb3yn7x007h0000gn/T/ipykernel_4881/744826599.py:2: UserWarning: pandas only supports SQLAlchemy connectable (engine/connection) or database string URI or sqlite3 DBAPI2 connection. Other DBAPI2 objects are not tested. Please consider using SQLAlchemy.\n",
      "  q30 = pd.read_sql(\"\"\"\n"
     ]
    },
    {
     "data": {
      "text/html": [
       "<div>\n",
       "<style scoped>\n",
       "    .dataframe tbody tr th:only-of-type {\n",
       "        vertical-align: middle;\n",
       "    }\n",
       "\n",
       "    .dataframe tbody tr th {\n",
       "        vertical-align: top;\n",
       "    }\n",
       "\n",
       "    .dataframe thead th {\n",
       "        text-align: right;\n",
       "    }\n",
       "</style>\n",
       "<table border=\"1\" class=\"dataframe\">\n",
       "  <thead>\n",
       "    <tr style=\"text-align: right;\">\n",
       "      <th></th>\n",
       "      <th>DISCOVERY_METHOD</th>\n",
       "      <th>PERCENTAGE</th>\n",
       "    </tr>\n",
       "  </thead>\n",
       "  <tbody>\n",
       "    <tr>\n",
       "      <th>0</th>\n",
       "      <td>Imaging</td>\n",
       "      <td>1.250568</td>\n",
       "    </tr>\n",
       "    <tr>\n",
       "      <th>1</th>\n",
       "      <td>Radial Velocity</td>\n",
       "      <td>3.751705</td>\n",
       "    </tr>\n",
       "    <tr>\n",
       "      <th>2</th>\n",
       "      <td>Transit</td>\n",
       "      <td>94.406548</td>\n",
       "    </tr>\n",
       "    <tr>\n",
       "      <th>3</th>\n",
       "      <td>Transit Timing Variations</td>\n",
       "      <td>0.454752</td>\n",
       "    </tr>\n",
       "    <tr>\n",
       "      <th>4</th>\n",
       "      <td>Orbital Brightness Modulation</td>\n",
       "      <td>0.022738</td>\n",
       "    </tr>\n",
       "  </tbody>\n",
       "</table>\n",
       "</div>"
      ],
      "text/plain": [
       "                DISCOVERY_METHOD  PERCENTAGE\n",
       "0                        Imaging    1.250568\n",
       "1                Radial Velocity    3.751705\n",
       "2                        Transit   94.406548\n",
       "3      Transit Timing Variations    0.454752\n",
       "4  Orbital Brightness Modulation    0.022738"
      ]
     },
     "execution_count": 161,
     "metadata": {},
     "output_type": "execute_result"
    }
   ],
   "source": [
    "#30. Calculate correlation between star metallicity and planet temperature. \n",
    "q30 = pd.read_sql(\"\"\"\n",
    "SELECT\n",
    "         discovery_method,\n",
    "         COUNT(*) * 100.0 / (SELECT COUNT(*) FROM TRANSFORM_EXOPLANET) AS percentage\n",
    "       FROM TRANSFORM_EXOPLANET\n",
    "       GROUP BY discovery_method\n",
    "\"\"\",conn)\n",
    "q30.head()"
   ]
  },
  {
   "cell_type": "code",
   "execution_count": 162,
   "id": "54311193",
   "metadata": {},
   "outputs": [
    {
     "name": "stderr",
     "output_type": "stream",
     "text": [
      "/var/folders/dt/1r2bkrkj763_hbb3yn7x007h0000gn/T/ipykernel_4881/2285267578.py:2: UserWarning: pandas only supports SQLAlchemy connectable (engine/connection) or database string URI or sqlite3 DBAPI2 connection. Other DBAPI2 objects are not tested. Please consider using SQLAlchemy.\n",
      "  q31 = pd.read_sql(\"\"\"\n"
     ]
    },
    {
     "data": {
      "text/html": [
       "<div>\n",
       "<style scoped>\n",
       "    .dataframe tbody tr th:only-of-type {\n",
       "        vertical-align: middle;\n",
       "    }\n",
       "\n",
       "    .dataframe tbody tr th {\n",
       "        vertical-align: top;\n",
       "    }\n",
       "\n",
       "    .dataframe thead th {\n",
       "        text-align: right;\n",
       "    }\n",
       "</style>\n",
       "<table border=\"1\" class=\"dataframe\">\n",
       "  <thead>\n",
       "    <tr style=\"text-align: right;\">\n",
       "      <th></th>\n",
       "      <th>AXIS_TYPE</th>\n",
       "      <th>COUNT</th>\n",
       "    </tr>\n",
       "  </thead>\n",
       "  <tbody>\n",
       "    <tr>\n",
       "      <th>0</th>\n",
       "      <td>Zero</td>\n",
       "      <td>4293</td>\n",
       "    </tr>\n",
       "    <tr>\n",
       "      <th>1</th>\n",
       "      <td>Non-zero</td>\n",
       "      <td>105</td>\n",
       "    </tr>\n",
       "  </tbody>\n",
       "</table>\n",
       "</div>"
      ],
      "text/plain": [
       "  AXIS_TYPE  COUNT\n",
       "0      Zero   4293\n",
       "1  Non-zero    105"
      ]
     },
     "execution_count": 162,
     "metadata": {},
     "output_type": "execute_result"
    }
   ],
   "source": [
    "#31. What percentage of planets are discovered using Imaging vs others?\n",
    "q31 = pd.read_sql(\"\"\"\n",
    "SELECT\n",
    "\n",
    "         CASE WHEN orbital_axis_limit = 0 THEN 'Zero' ELSE 'Non-zero' END AS axis_type,\n",
    "         COUNT(*) AS count\n",
    "       FROM TRANSFORM_EXOPLANET\n",
    "       GROUP BY axis_type\n",
    "\"\"\",conn)\n",
    "q31.head()"
   ]
  },
  {
   "cell_type": "code",
   "execution_count": null,
   "id": "4b81cbcb",
   "metadata": {},
   "outputs": [],
   "source": [
    "#32. Compare the count of planets with orbital axis 0 vs non-zero.\n",
    "q32 = pd.read_sql(\"\"\"\n",
    "WITH median_metallicity AS (\n",
    "         SELECT PERCENTILE_CONT(0.5) WITHIN GROUP (ORDER BY star_metallicity_dex) AS median_val\n",
    "         FROM TRANSFORM_EXOPLANET\n",
    "         WHERE star_metallicity_dex IS NOT NULL\n",
    "       )\n",
    "       SELECT AVG(planet_eq_temperature_k) AS avg_temp\n",
    "       FROM TRANSFORM_EXOPLANET, median_metallicity\n",
    "       WHERE star_metallicity_dex < median_val\n",
    " \"\"\",conn)\n",
    "q32.head()      \n",
    "       "
   ]
  },
  {
   "cell_type": "code",
   "execution_count": 166,
   "id": "18c8107d",
   "metadata": {},
   "outputs": [
    {
     "name": "stderr",
     "output_type": "stream",
     "text": [
      "/var/folders/dt/1r2bkrkj763_hbb3yn7x007h0000gn/T/ipykernel_4881/1945624582.py:2: UserWarning: pandas only supports SQLAlchemy connectable (engine/connection) or database string URI or sqlite3 DBAPI2 connection. Other DBAPI2 objects are not tested. Please consider using SQLAlchemy.\n",
      "  q33 = pd.read_sql(\"\"\"\n"
     ]
    },
    {
     "data": {
      "text/html": [
       "<div>\n",
       "<style scoped>\n",
       "    .dataframe tbody tr th:only-of-type {\n",
       "        vertical-align: middle;\n",
       "    }\n",
       "\n",
       "    .dataframe tbody tr th {\n",
       "        vertical-align: top;\n",
       "    }\n",
       "\n",
       "    .dataframe thead th {\n",
       "        text-align: right;\n",
       "    }\n",
       "</style>\n",
       "<table border=\"1\" class=\"dataframe\">\n",
       "  <thead>\n",
       "    <tr style=\"text-align: right;\">\n",
       "      <th></th>\n",
       "      <th>MEDIAN_ORBITAL_AXIS</th>\n",
       "    </tr>\n",
       "  </thead>\n",
       "  <tbody>\n",
       "    <tr>\n",
       "      <th>0</th>\n",
       "      <td>0.0</td>\n",
       "    </tr>\n",
       "  </tbody>\n",
       "</table>\n",
       "</div>"
      ],
      "text/plain": [
       "   MEDIAN_ORBITAL_AXIS\n",
       "0                  0.0"
      ]
     },
     "execution_count": 166,
     "metadata": {},
     "output_type": "execute_result"
    }
   ],
   "source": [
    "#33. Are there planets with unusually high or low metallicity? Get 5 rows from each end of the metallicity range.\n",
    "q33 = pd.read_sql(\"\"\"\n",
    "SELECT MEDIAN(orbital_axis_limit) AS median_orbital_axis\n",
    "       FROM TRANSFORM_EXOPLANET\n",
    "       WHERE declination_deg >= 0\n",
    "\"\"\",conn)\n",
    "q33.head()       \n",
    "       "
   ]
  },
  {
   "cell_type": "markdown",
   "id": "fd1f415c",
   "metadata": {},
   "source": [
    "### THE MACHINE LEARNING ANALYSIS STARTS HERE! ###"
   ]
  },
  {
   "cell_type": "code",
   "execution_count": 180,
   "id": "8a75cd58",
   "metadata": {},
   "outputs": [
    {
     "name": "stderr",
     "output_type": "stream",
     "text": [
      "/var/folders/dt/1r2bkrkj763_hbb3yn7x007h0000gn/T/ipykernel_4881/378869112.py:11: UserWarning: pandas only supports SQLAlchemy connectable (engine/connection) or database string URI or sqlite3 DBAPI2 connection. Other DBAPI2 objects are not tested. Please consider using SQLAlchemy.\n",
      "  df = pd.read_sql(\"\"\"\n"
     ]
    },
    {
     "data": {
      "text/html": [
       "<div>\n",
       "<style scoped>\n",
       "    .dataframe tbody tr th:only-of-type {\n",
       "        vertical-align: middle;\n",
       "    }\n",
       "\n",
       "    .dataframe tbody tr th {\n",
       "        vertical-align: top;\n",
       "    }\n",
       "\n",
       "    .dataframe thead th {\n",
       "        text-align: right;\n",
       "    }\n",
       "</style>\n",
       "<table border=\"1\" class=\"dataframe\">\n",
       "  <thead>\n",
       "    <tr style=\"text-align: right;\">\n",
       "      <th></th>\n",
       "      <th>RIGHT_ASCENSION_DEG</th>\n",
       "      <th>DECLINATION_DEG</th>\n",
       "      <th>PLANET_EQ_TEMPERATURE_K</th>\n",
       "      <th>STAR_METALLICITY_DEX</th>\n",
       "      <th>DISCOVERY_METHOD</th>\n",
       "      <th>CONTROVERSIAL_FLAG</th>\n",
       "    </tr>\n",
       "  </thead>\n",
       "  <tbody>\n",
       "    <tr>\n",
       "      <th>0</th>\n",
       "      <td>242.376234</td>\n",
       "      <td>-21.083140</td>\n",
       "      <td>1700.0</td>\n",
       "      <td>0.01486</td>\n",
       "      <td>Imaging</td>\n",
       "      <td>0.0</td>\n",
       "    </tr>\n",
       "    <tr>\n",
       "      <th>1</th>\n",
       "      <td>69.340553</td>\n",
       "      <td>26.850300</td>\n",
       "      <td>1450.0</td>\n",
       "      <td>0.01000</td>\n",
       "      <td>Imaging</td>\n",
       "      <td>0.0</td>\n",
       "    </tr>\n",
       "    <tr>\n",
       "      <th>2</th>\n",
       "      <td>20.712801</td>\n",
       "      <td>-24.664613</td>\n",
       "      <td>1600.0</td>\n",
       "      <td>0.01486</td>\n",
       "      <td>Imaging</td>\n",
       "      <td>0.0</td>\n",
       "    </tr>\n",
       "    <tr>\n",
       "      <th>3</th>\n",
       "      <td>59.791103</td>\n",
       "      <td>20.159976</td>\n",
       "      <td>2369.0</td>\n",
       "      <td>0.01486</td>\n",
       "      <td>Imaging</td>\n",
       "      <td>0.0</td>\n",
       "    </tr>\n",
       "    <tr>\n",
       "      <th>4</th>\n",
       "      <td>165.329539</td>\n",
       "      <td>-77.544091</td>\n",
       "      <td>2677.0</td>\n",
       "      <td>0.01486</td>\n",
       "      <td>Imaging</td>\n",
       "      <td>0.0</td>\n",
       "    </tr>\n",
       "  </tbody>\n",
       "</table>\n",
       "</div>"
      ],
      "text/plain": [
       "   RIGHT_ASCENSION_DEG  DECLINATION_DEG  PLANET_EQ_TEMPERATURE_K  \\\n",
       "0           242.376234       -21.083140                   1700.0   \n",
       "1            69.340553        26.850300                   1450.0   \n",
       "2            20.712801       -24.664613                   1600.0   \n",
       "3            59.791103        20.159976                   2369.0   \n",
       "4           165.329539       -77.544091                   2677.0   \n",
       "\n",
       "   STAR_METALLICITY_DEX DISCOVERY_METHOD  CONTROVERSIAL_FLAG  \n",
       "0               0.01486          Imaging                 0.0  \n",
       "1               0.01000          Imaging                 0.0  \n",
       "2               0.01486          Imaging                 0.0  \n",
       "3               0.01486          Imaging                 0.0  \n",
       "4               0.01486          Imaging                 0.0  "
      ]
     },
     "execution_count": 180,
     "metadata": {},
     "output_type": "execute_result"
    }
   ],
   "source": [
    "# Re-run necessary setup due to code state reset\n",
    "import pandas as pd\n",
    "from sklearn.model_selection import train_test_split\n",
    "from sklearn.preprocessing import StandardScaler, LabelEncoder\n",
    "from sklearn.linear_model import LogisticRegression, LinearRegression\n",
    "from sklearn.ensemble import RandomForestClassifier\n",
    "from sklearn.cluster import KMeans\n",
    "from sklearn.metrics import classification_report, confusion_matrix, mean_squared_error\n",
    "import matplotlib.pyplot as plt\n",
    "\n",
    "df = pd.read_sql(\"\"\"\n",
    "    SELECT \n",
    "        RIGHT_ASCENSION_DEG, \n",
    "        DECLINATION_DEG, \n",
    "        PLANET_EQ_TEMPERATURE_K, \n",
    "        STAR_METALLICITY_DEX, \n",
    "        DISCOVERY_METHOD, \n",
    "        CONTROVERSIAL_FLAG\n",
    "    FROM TRANSFORM_EXOPLANET\n",
    "    WHERE planet_eq_temperature_k IS NOT NULL \n",
    "      AND star_metallicity_dex IS NOT NULL\n",
    "\"\"\", conn)\n",
    "\n",
    "df.head()\n",
    "\n"
   ]
  },
  {
   "cell_type": "code",
   "execution_count": 184,
   "id": "3c474074",
   "metadata": {},
   "outputs": [
    {
     "name": "stderr",
     "output_type": "stream",
     "text": [
      "/Users/jeetpmehta/anaconda3/lib/python3.11/site-packages/sklearn/cluster/_kmeans.py:1412: FutureWarning: The default value of `n_init` will change from 10 to 'auto' in 1.4. Set the value of `n_init` explicitly to suppress the warning\n",
      "  super()._check_params_vs_input(X, default_n_init=10)\n"
     ]
    }
   ],
   "source": [
    "# Encode categorical features\n",
    "le = LabelEncoder()\n",
    "df['discovery_method_encoded'] = le.fit_transform(df['DISCOVERY_METHOD'])\n",
    "\n",
    "# Feature set\n",
    "features = ['RIGHT_ASCENSION_DEG', 'DECLINATION_DEG', 'PLANET_EQ_TEMPERATURE_K', 'STAR_METALLICITY_DEX']\n",
    "\n",
    "# 1. Predict Controversial Flag (binary classification)\n",
    "X1 = df[features]\n",
    "y1 = df['CONTROVERSIAL_FLAG']\n",
    "X1_train, X1_test, y1_train, y1_test = train_test_split(X1, y1, test_size=0.3, random_state=42)\n",
    "clf1 = LogisticRegression().fit(X1_train, y1_train)\n",
    "\n",
    "# 2. Predict Discovery Method (multi-class classification)\n",
    "y2 = df['discovery_method_encoded']\n",
    "X2_train, X2_test, y2_train, y2_test = train_test_split(X1, y2, test_size=0.3, random_state=42)\n",
    "clf2 = RandomForestClassifier().fit(X2_train, y2_train)\n",
    "\n",
    "# 3. Classify Hot vs Cold Planets\n",
    "df['hot_vs_cold'] = (df['PLANET_EQ_TEMPERATURE_K'] > df['PLANET_EQ_TEMPERATURE_K'].median()).astype(int)\n",
    "y3 = df['hot_vs_cold']\n",
    "X3_train, X3_test, y3_train, y3_test = train_test_split(X1, y3, test_size=0.3, random_state=42)\n",
    "clf3 = LogisticRegression().fit(X3_train, y3_train)\n",
    "\n",
    "# 4. Regression Model to Predict Temperature\n",
    "y4 = df['PLANET_EQ_TEMPERATURE_K']\n",
    "X4 = df[['RIGHT_ASCENSION_DEG', 'DECLINATION_DEG', 'STAR_METALLICITY_DEX']]\n",
    "X4_train, X4_test, y4_train, y4_test = train_test_split(X4, y4, test_size=0.3, random_state=42)\n",
    "regressor = LinearRegression().fit(X4_train, y4_train)\n",
    "\n",
    "# 5. KMeans Clustering on position + temperature\n",
    "X5 = df[['RIGHT_ASCENSION_DEG', 'DECLINATION_DEG', 'PLANET_EQ_TEMPERATURE_K']]\n",
    "scaler = StandardScaler()\n",
    "X5_scaled = scaler.fit_transform(X5)\n",
    "kmeans = KMeans(n_clusters=2, random_state=42).fit(X5_scaled)\n",
    "df['cluster'] = kmeans.labels_\n",
    "\n"
   ]
  },
  {
   "cell_type": "code",
   "execution_count": null,
   "id": "6be03a76",
   "metadata": {},
   "outputs": [],
   "source": []
  }
 ],
 "metadata": {
  "kernelspec": {
   "display_name": "Python 3 (ipykernel)",
   "language": "python",
   "name": "python3"
  },
  "language_info": {
   "codemirror_mode": {
    "name": "ipython",
    "version": 3
   },
   "file_extension": ".py",
   "mimetype": "text/x-python",
   "name": "python",
   "nbconvert_exporter": "python",
   "pygments_lexer": "ipython3",
   "version": "3.11.5"
  }
 },
 "nbformat": 4,
 "nbformat_minor": 5
}
