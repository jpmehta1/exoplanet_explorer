{
 "cells": [
  {
   "cell_type": "code",
   "execution_count": null,
   "id": "60848b56",
   "metadata": {},
   "outputs": [],
   "source": [
    "from sqlalchemy import create_engine\n",
    "import pandas as pd\n",
    "import snowflake.connector\n",
    "import matplotlib.pyplot as plt\n",
    "# connector \n",
    "conn = snowflake.connector.connect(\n",
    "    user = \"MEHTAJEETPARESH\",\n",
    "    password = \"Jeetmehta12345\",\n",
    "    account = \"xo45240.us-central1.gcp\",\n",
    "    role = 'NASA_ROLE',\n",
    "    warehouse = \"COMPUTE_WH\",\n",
    "    database = \"NASA_PROJECT\",\n",
    "    schema = \"EXOPLANET_DATA\"\n",
    ")\n",
    "\n",
    "cursor = conn.cursor()\n",
    "cursor.execute(\"USE DATABASE NASA_PROJECT;\")\n",
    "cursor.execute(\"USE SCHEMA EXOPLANET_DATA;\")"
   ]
  },
  {
   "cell_type": "code",
   "execution_count": 72,
   "id": "fa5dd274",
   "metadata": {
    "scrolled": true
   },
   "outputs": [
    {
     "name": "stderr",
     "output_type": "stream",
     "text": [
      "/var/folders/dt/1r2bkrkj763_hbb3yn7x007h0000gn/T/ipykernel_4881/3699084961.py:1: UserWarning: pandas only supports SQLAlchemy connectable (engine/connection) or database string URI or sqlite3 DBAPI2 connection. Other DBAPI2 objects are not tested. Please consider using SQLAlchemy.\n",
      "  df = pd.read_sql(\"\"\"\n"
     ]
    },
    {
     "name": "stdout",
     "output_type": "stream",
     "text": [
      "                        _AIRBYTE_RAW_ID     _AIRBYTE_EXTRACTED_AT  \\\n",
      "0  30605648-f6c7-4d66-b4ff-132f09d47003 2025-06-17 04:22:07+00:00   \n",
      "1  eac8695c-e7ec-4065-be44-be28741a7857 2025-06-17 04:22:07+00:00   \n",
      "2  a5d5758f-6189-4bfe-87e5-c44b884a3070 2025-06-17 04:22:07+00:00   \n",
      "3  ff8cf2e1-0420-4b98-99fc-26fc61e9d483 2025-06-17 04:22:07+00:00   \n",
      "4  337d3775-ae31-4cdf-bad6-d49dddbf8b87 2025-06-17 04:22:07+00:00   \n",
      "\n",
      "                                   _AIRBYTE_META  _AIRBYTE_GENERATION_ID  \\\n",
      "0  {\\n  \"changes\": [],\\n  \"sync_id\": 39681498\\n}                       9   \n",
      "1  {\\n  \"changes\": [],\\n  \"sync_id\": 39681498\\n}                       9   \n",
      "2  {\\n  \"changes\": [],\\n  \"sync_id\": 39681498\\n}                       9   \n",
      "3  {\\n  \"changes\": [],\\n  \"sync_id\": 39681498\\n}                       9   \n",
      "4  {\\n  \"changes\": [],\\n  \"sync_id\": 39681498\\n}                       9   \n",
      "\n",
      "           RA        DEC         RASTR         DECSTR PL_EQT  ST_MET  ...  \\\n",
      "0  185.178779  17.793252  12h20m42.91s  +17d47m35.71s   None -0.2600  ...   \n",
      "1  229.274595  71.823943  15h17m05.90s  +71d49m26.19s   None -0.0200  ...   \n",
      "2  352.824150  39.235837  23h31m17.80s  +39d14m09.01s   None -0.2100  ...   \n",
      "3  242.602101  43.816362  16h10m24.50s  +43d48m58.90s   None  0.4052  ...   \n",
      "4  295.465642  50.516824  19h41m51.75s  +50d31m00.57s   None  0.0600  ...   \n",
      "\n",
      "   PL_ORBSMAXLIM PL_ORBECCENLIM  PL_ORBSMAXERR1  PL_ORBSMAXERR2  \\\n",
      "0            0.0            0.0           0.000            0.00   \n",
      "1            0.0            0.0           0.070           -0.07   \n",
      "2            0.0            0.0           0.000            0.00   \n",
      "3            0.0            0.0           0.109           -0.12   \n",
      "4            0.0            0.0           0.030           -0.03   \n",
      "\n",
      "   SY_GAIAMAGERR1  SY_GAIAMAGERR2  DISCOVERYMETHOD  PL_CONTROV_FLAG  \\\n",
      "0        0.003848       -0.003848  Radial Velocity              0.0   \n",
      "1        0.003903       -0.003903  Radial Velocity              0.0   \n",
      "2        0.002826       -0.002826  Radial Velocity              0.0   \n",
      "3        0.000351       -0.000351  Radial Velocity              0.0   \n",
      "4        0.000603       -0.000603  Radial Velocity              0.0   \n",
      "\n",
      "   PL_ORBECCENERR1  PL_ORBECCENERR2  \n",
      "0            0.007           -0.007  \n",
      "1            0.030           -0.030  \n",
      "2              NaN              NaN  \n",
      "3            0.008           -0.006  \n",
      "4            0.020           -0.020  \n",
      "\n",
      "[5 rows x 88 columns]\n"
     ]
    }
   ],
   "source": [
    "# checking original dataset\n",
    "df = pd.read_sql(\"\"\"\n",
    "            SELECT *\n",
    "            FROM PSCOMPPARS\n",
    "            LIMIT 5\n",
    "            \"\"\", conn)\n",
    "\n",
    "print(df.head(10))"
   ]
  },
  {
   "cell_type": "code",
   "execution_count": 85,
   "id": "b722ad6c",
   "metadata": {},
   "outputs": [
    {
     "name": "stderr",
     "output_type": "stream",
     "text": [
      "/var/folders/dt/1r2bkrkj763_hbb3yn7x007h0000gn/T/ipykernel_4881/55360544.py:1: UserWarning: pandas only supports SQLAlchemy connectable (engine/connection) or database string URI or sqlite3 DBAPI2 connection. Other DBAPI2 objects are not tested. Please consider using SQLAlchemy.\n",
      "  df = pd.read_sql(\"\"\"\n"
     ]
    },
    {
     "data": {
      "text/html": [
       "<div>\n",
       "<style scoped>\n",
       "    .dataframe tbody tr th:only-of-type {\n",
       "        vertical-align: middle;\n",
       "    }\n",
       "\n",
       "    .dataframe tbody tr th {\n",
       "        vertical-align: top;\n",
       "    }\n",
       "\n",
       "    .dataframe thead th {\n",
       "        text-align: right;\n",
       "    }\n",
       "</style>\n",
       "<table border=\"1\" class=\"dataframe\">\n",
       "  <thead>\n",
       "    <tr style=\"text-align: right;\">\n",
       "      <th></th>\n",
       "      <th>RIGHT_ASCENSION_DEG</th>\n",
       "      <th>DECLINATION_DEG</th>\n",
       "      <th>PLANET_EQ_TEMPERATURE_K</th>\n",
       "      <th>STAR_METALLICITY_DEX</th>\n",
       "      <th>DISCOVERY_METHOD</th>\n",
       "      <th>CONTROVERSIAL_FLAG</th>\n",
       "      <th>ORBITAL_AXIS_LIMIT</th>\n",
       "    </tr>\n",
       "  </thead>\n",
       "  <tbody>\n",
       "    <tr>\n",
       "      <th>0</th>\n",
       "      <td>242.376234</td>\n",
       "      <td>-21.083140</td>\n",
       "      <td>1700.0</td>\n",
       "      <td>0.01486</td>\n",
       "      <td>Imaging</td>\n",
       "      <td>0.0</td>\n",
       "      <td>0.0</td>\n",
       "    </tr>\n",
       "    <tr>\n",
       "      <th>1</th>\n",
       "      <td>69.340553</td>\n",
       "      <td>26.850300</td>\n",
       "      <td>1450.0</td>\n",
       "      <td>0.01000</td>\n",
       "      <td>Imaging</td>\n",
       "      <td>0.0</td>\n",
       "      <td>0.0</td>\n",
       "    </tr>\n",
       "    <tr>\n",
       "      <th>2</th>\n",
       "      <td>20.712801</td>\n",
       "      <td>-24.664613</td>\n",
       "      <td>1600.0</td>\n",
       "      <td>0.01486</td>\n",
       "      <td>Imaging</td>\n",
       "      <td>0.0</td>\n",
       "      <td>0.0</td>\n",
       "    </tr>\n",
       "    <tr>\n",
       "      <th>3</th>\n",
       "      <td>59.791103</td>\n",
       "      <td>20.159976</td>\n",
       "      <td>2369.0</td>\n",
       "      <td>0.01486</td>\n",
       "      <td>Imaging</td>\n",
       "      <td>0.0</td>\n",
       "      <td>0.0</td>\n",
       "    </tr>\n",
       "    <tr>\n",
       "      <th>4</th>\n",
       "      <td>165.329539</td>\n",
       "      <td>-77.544091</td>\n",
       "      <td>2677.0</td>\n",
       "      <td>0.01486</td>\n",
       "      <td>Imaging</td>\n",
       "      <td>0.0</td>\n",
       "      <td>0.0</td>\n",
       "    </tr>\n",
       "  </tbody>\n",
       "</table>\n",
       "</div>"
      ],
      "text/plain": [
       "   RIGHT_ASCENSION_DEG  DECLINATION_DEG  PLANET_EQ_TEMPERATURE_K  \\\n",
       "0           242.376234       -21.083140                   1700.0   \n",
       "1            69.340553        26.850300                   1450.0   \n",
       "2            20.712801       -24.664613                   1600.0   \n",
       "3            59.791103        20.159976                   2369.0   \n",
       "4           165.329539       -77.544091                   2677.0   \n",
       "\n",
       "   STAR_METALLICITY_DEX DISCOVERY_METHOD  CONTROVERSIAL_FLAG  \\\n",
       "0               0.01486          Imaging                 0.0   \n",
       "1               0.01000          Imaging                 0.0   \n",
       "2               0.01486          Imaging                 0.0   \n",
       "3               0.01486          Imaging                 0.0   \n",
       "4               0.01486          Imaging                 0.0   \n",
       "\n",
       "   ORBITAL_AXIS_LIMIT  \n",
       "0                 0.0  \n",
       "1                 0.0  \n",
       "2                 0.0  \n",
       "3                 0.0  \n",
       "4                 0.0  "
      ]
     },
     "execution_count": 85,
     "metadata": {},
     "output_type": "execute_result"
    }
   ],
   "source": [
    "# checking transformed dataset\n",
    "df = pd.read_sql(\"\"\"\n",
    "SELECT * FROM TRANSFORM_EXOPLANET LIMIT 5\n",
    "\"\"\", conn)\n",
    "\n",
    "df.head()\n"
   ]
  },
  {
   "cell_type": "markdown",
   "id": "75c6cec9",
   "metadata": {},
   "source": [
    "## ANALYSIS STARTS HERE ##"
   ]
  },
  {
   "cell_type": "code",
   "execution_count": 98,
   "id": "0f63a7ab",
   "metadata": {},
   "outputs": [
    {
     "name": "stderr",
     "output_type": "stream",
     "text": [
      "/var/folders/dt/1r2bkrkj763_hbb3yn7x007h0000gn/T/ipykernel_4881/2780340065.py:2: UserWarning: pandas only supports SQLAlchemy connectable (engine/connection) or database string URI or sqlite3 DBAPI2 connection. Other DBAPI2 objects are not tested. Please consider using SQLAlchemy.\n",
      "  q1 = pd.read_sql(\"\"\"\n"
     ]
    },
    {
     "data": {
      "text/html": [
       "<div>\n",
       "<style scoped>\n",
       "    .dataframe tbody tr th:only-of-type {\n",
       "        vertical-align: middle;\n",
       "    }\n",
       "\n",
       "    .dataframe tbody tr th {\n",
       "        vertical-align: top;\n",
       "    }\n",
       "\n",
       "    .dataframe thead th {\n",
       "        text-align: right;\n",
       "    }\n",
       "</style>\n",
       "<table border=\"1\" class=\"dataframe\">\n",
       "  <thead>\n",
       "    <tr style=\"text-align: right;\">\n",
       "      <th></th>\n",
       "      <th>DISCOVERY_METHOD</th>\n",
       "      <th>NUM_PLANETS</th>\n",
       "    </tr>\n",
       "  </thead>\n",
       "  <tbody>\n",
       "    <tr>\n",
       "      <th>0</th>\n",
       "      <td>Transit</td>\n",
       "      <td>4152</td>\n",
       "    </tr>\n",
       "    <tr>\n",
       "      <th>1</th>\n",
       "      <td>Radial Velocity</td>\n",
       "      <td>165</td>\n",
       "    </tr>\n",
       "    <tr>\n",
       "      <th>2</th>\n",
       "      <td>Imaging</td>\n",
       "      <td>55</td>\n",
       "    </tr>\n",
       "    <tr>\n",
       "      <th>3</th>\n",
       "      <td>Transit Timing Variations</td>\n",
       "      <td>20</td>\n",
       "    </tr>\n",
       "    <tr>\n",
       "      <th>4</th>\n",
       "      <td>Microlensing</td>\n",
       "      <td>5</td>\n",
       "    </tr>\n",
       "  </tbody>\n",
       "</table>\n",
       "</div>"
      ],
      "text/plain": [
       "            DISCOVERY_METHOD  NUM_PLANETS\n",
       "0                    Transit         4152\n",
       "1            Radial Velocity          165\n",
       "2                    Imaging           55\n",
       "3  Transit Timing Variations           20\n",
       "4               Microlensing            5"
      ]
     },
     "execution_count": 98,
     "metadata": {},
     "output_type": "execute_result"
    }
   ],
   "source": [
    "# 1. number of planets per discovery method ordered by count of number of planets\n",
    "q1 = pd.read_sql(\"\"\"\n",
    "SELECT discovery_method, COUNT(*) AS num_planets\n",
    "FROM TRANSFORM_EXOPLANET\n",
    "GROUP BY discovery_method\n",
    "ORDER BY num_planets DESC\n",
    "\"\"\", conn)\n",
    "\n",
    "q1.head()\n"
   ]
  },
  {
   "cell_type": "code",
   "execution_count": 99,
   "id": "f0bf921e",
   "metadata": {},
   "outputs": [
    {
     "name": "stderr",
     "output_type": "stream",
     "text": [
      "/var/folders/dt/1r2bkrkj763_hbb3yn7x007h0000gn/T/ipykernel_4881/380743859.py:2: UserWarning: pandas only supports SQLAlchemy connectable (engine/connection) or database string URI or sqlite3 DBAPI2 connection. Other DBAPI2 objects are not tested. Please consider using SQLAlchemy.\n",
      "  q2 = pd.read_sql(\"\"\"\n"
     ]
    },
    {
     "data": {
      "text/html": [
       "<div>\n",
       "<style scoped>\n",
       "    .dataframe tbody tr th:only-of-type {\n",
       "        vertical-align: middle;\n",
       "    }\n",
       "\n",
       "    .dataframe tbody tr th {\n",
       "        vertical-align: top;\n",
       "    }\n",
       "\n",
       "    .dataframe thead th {\n",
       "        text-align: right;\n",
       "    }\n",
       "</style>\n",
       "<table border=\"1\" class=\"dataframe\">\n",
       "  <thead>\n",
       "    <tr style=\"text-align: right;\">\n",
       "      <th></th>\n",
       "      <th>DISCOVERY_METHOD</th>\n",
       "      <th>AVG_PLANET_EQ_TEMP_K</th>\n",
       "    </tr>\n",
       "  </thead>\n",
       "  <tbody>\n",
       "    <tr>\n",
       "      <th>0</th>\n",
       "      <td>Orbital Brightness Modulation</td>\n",
       "      <td>2140.000000</td>\n",
       "    </tr>\n",
       "    <tr>\n",
       "      <th>1</th>\n",
       "      <td>Imaging</td>\n",
       "      <td>1572.892727</td>\n",
       "    </tr>\n",
       "    <tr>\n",
       "      <th>2</th>\n",
       "      <td>Transit</td>\n",
       "      <td>920.747018</td>\n",
       "    </tr>\n",
       "    <tr>\n",
       "      <th>3</th>\n",
       "      <td>Transit Timing Variations</td>\n",
       "      <td>705.250000</td>\n",
       "    </tr>\n",
       "    <tr>\n",
       "      <th>4</th>\n",
       "      <td>Radial Velocity</td>\n",
       "      <td>537.625212</td>\n",
       "    </tr>\n",
       "  </tbody>\n",
       "</table>\n",
       "</div>"
      ],
      "text/plain": [
       "                DISCOVERY_METHOD  AVG_PLANET_EQ_TEMP_K\n",
       "0  Orbital Brightness Modulation           2140.000000\n",
       "1                        Imaging           1572.892727\n",
       "2                        Transit            920.747018\n",
       "3      Transit Timing Variations            705.250000\n",
       "4                Radial Velocity            537.625212"
      ]
     },
     "execution_count": 99,
     "metadata": {},
     "output_type": "execute_result"
    }
   ],
   "source": [
    "# 2. average planet temperature per discovery method\n",
    "q2 = pd.read_sql(\"\"\"\n",
    "SELECT discovery_method, AVG(planet_eq_temperature_k) AS avg_planet_eq_temp_k\n",
    "FROM TRANSFORM_EXOPLANET\n",
    "GROUP BY discovery_method\n",
    "ORDER BY avg_planet_eq_temp_k DESC\n",
    "\"\"\", conn)\n",
    "\n",
    "q2.head()\n"
   ]
  },
  {
   "cell_type": "code",
   "execution_count": 100,
   "id": "4c514942",
   "metadata": {},
   "outputs": [
    {
     "name": "stderr",
     "output_type": "stream",
     "text": [
      "/var/folders/dt/1r2bkrkj763_hbb3yn7x007h0000gn/T/ipykernel_4881/1074665202.py:2: UserWarning: pandas only supports SQLAlchemy connectable (engine/connection) or database string URI or sqlite3 DBAPI2 connection. Other DBAPI2 objects are not tested. Please consider using SQLAlchemy.\n",
      "  q3 = pd.read_sql(\"\"\"\n"
     ]
    },
    {
     "data": {
      "text/html": [
       "<div>\n",
       "<style scoped>\n",
       "    .dataframe tbody tr th:only-of-type {\n",
       "        vertical-align: middle;\n",
       "    }\n",
       "\n",
       "    .dataframe tbody tr th {\n",
       "        vertical-align: top;\n",
       "    }\n",
       "\n",
       "    .dataframe thead th {\n",
       "        text-align: right;\n",
       "    }\n",
       "</style>\n",
       "<table border=\"1\" class=\"dataframe\">\n",
       "  <thead>\n",
       "    <tr style=\"text-align: right;\">\n",
       "      <th></th>\n",
       "      <th>MAX_TEMP_K</th>\n",
       "    </tr>\n",
       "  </thead>\n",
       "  <tbody>\n",
       "    <tr>\n",
       "      <th>0</th>\n",
       "      <td>4050.0</td>\n",
       "    </tr>\n",
       "  </tbody>\n",
       "</table>\n",
       "</div>"
      ],
      "text/plain": [
       "   MAX_TEMP_K\n",
       "0      4050.0"
      ]
     },
     "execution_count": 100,
     "metadata": {},
     "output_type": "execute_result"
    }
   ],
   "source": [
    "# 3. planet with max temperature\n",
    "q3 = pd.read_sql(\"\"\"\n",
    "SELECT MAX(planet_eq_temperature_k) AS max_temp_k\n",
    "FROM TRANSFORM_EXOPLANET\n",
    "\"\"\", conn)\n",
    "\n",
    "q3.head()"
   ]
  },
  {
   "cell_type": "code",
   "execution_count": 101,
   "id": "70fac0ce",
   "metadata": {},
   "outputs": [
    {
     "name": "stderr",
     "output_type": "stream",
     "text": [
      "/var/folders/dt/1r2bkrkj763_hbb3yn7x007h0000gn/T/ipykernel_4881/4142083345.py:2: UserWarning: pandas only supports SQLAlchemy connectable (engine/connection) or database string URI or sqlite3 DBAPI2 connection. Other DBAPI2 objects are not tested. Please consider using SQLAlchemy.\n",
      "  q4 = pd.read_sql(\"\"\"\n"
     ]
    },
    {
     "data": {
      "text/html": [
       "<div>\n",
       "<style scoped>\n",
       "    .dataframe tbody tr th:only-of-type {\n",
       "        vertical-align: middle;\n",
       "    }\n",
       "\n",
       "    .dataframe tbody tr th {\n",
       "        vertical-align: top;\n",
       "    }\n",
       "\n",
       "    .dataframe thead th {\n",
       "        text-align: right;\n",
       "    }\n",
       "</style>\n",
       "<table border=\"1\" class=\"dataframe\">\n",
       "  <thead>\n",
       "    <tr style=\"text-align: right;\">\n",
       "      <th></th>\n",
       "      <th>CONTROVERSIAL_FLAG</th>\n",
       "      <th>COUNT</th>\n",
       "    </tr>\n",
       "  </thead>\n",
       "  <tbody>\n",
       "    <tr>\n",
       "      <th>0</th>\n",
       "      <td>0.0</td>\n",
       "      <td>4388</td>\n",
       "    </tr>\n",
       "    <tr>\n",
       "      <th>1</th>\n",
       "      <td>1.0</td>\n",
       "      <td>10</td>\n",
       "    </tr>\n",
       "  </tbody>\n",
       "</table>\n",
       "</div>"
      ],
      "text/plain": [
       "   CONTROVERSIAL_FLAG  COUNT\n",
       "0                 0.0   4388\n",
       "1                 1.0     10"
      ]
     },
     "execution_count": 101,
     "metadata": {},
     "output_type": "execute_result"
    }
   ],
   "source": [
    "# 4. number of controversial vs confirmed planets\n",
    "q4 = pd.read_sql(\"\"\"\n",
    "SELECT controversial_flag, COUNT(*) AS count\n",
    "FROM TRANSFORM_EXOPLANET\n",
    "GROUP BY controversial_flag\n",
    "\"\"\", conn)\n",
    "\n",
    "q4.head()"
   ]
  },
  {
   "cell_type": "code",
   "execution_count": 105,
   "id": "97dffa79",
   "metadata": {},
   "outputs": [
    {
     "name": "stderr",
     "output_type": "stream",
     "text": [
      "/var/folders/dt/1r2bkrkj763_hbb3yn7x007h0000gn/T/ipykernel_4881/1979919766.py:2: UserWarning: pandas only supports SQLAlchemy connectable (engine/connection) or database string URI or sqlite3 DBAPI2 connection. Other DBAPI2 objects are not tested. Please consider using SQLAlchemy.\n",
      "  q5 = pd.read_sql(\"\"\"\n"
     ]
    },
    {
     "data": {
      "text/html": [
       "<div>\n",
       "<style scoped>\n",
       "    .dataframe tbody tr th:only-of-type {\n",
       "        vertical-align: middle;\n",
       "    }\n",
       "\n",
       "    .dataframe tbody tr th {\n",
       "        vertical-align: top;\n",
       "    }\n",
       "\n",
       "    .dataframe thead th {\n",
       "        text-align: right;\n",
       "    }\n",
       "</style>\n",
       "<table border=\"1\" class=\"dataframe\">\n",
       "  <thead>\n",
       "    <tr style=\"text-align: right;\">\n",
       "      <th></th>\n",
       "      <th>DISCOVERY_METHOD</th>\n",
       "      <th>AVG_METALLICITY_DEX</th>\n",
       "    </tr>\n",
       "  </thead>\n",
       "  <tbody>\n",
       "    <tr>\n",
       "      <th>0</th>\n",
       "      <td>Transit Timing Variations</td>\n",
       "      <td>0.017290</td>\n",
       "    </tr>\n",
       "    <tr>\n",
       "      <th>1</th>\n",
       "      <td>Transit</td>\n",
       "      <td>0.016299</td>\n",
       "    </tr>\n",
       "    <tr>\n",
       "      <th>2</th>\n",
       "      <td>Microlensing</td>\n",
       "      <td>0.014860</td>\n",
       "    </tr>\n",
       "    <tr>\n",
       "      <th>3</th>\n",
       "      <td>Radial Velocity</td>\n",
       "      <td>-0.001269</td>\n",
       "    </tr>\n",
       "    <tr>\n",
       "      <th>4</th>\n",
       "      <td>Imaging</td>\n",
       "      <td>-0.044209</td>\n",
       "    </tr>\n",
       "  </tbody>\n",
       "</table>\n",
       "</div>"
      ],
      "text/plain": [
       "            DISCOVERY_METHOD  AVG_METALLICITY_DEX\n",
       "0  Transit Timing Variations             0.017290\n",
       "1                    Transit             0.016299\n",
       "2               Microlensing             0.014860\n",
       "3            Radial Velocity            -0.001269\n",
       "4                    Imaging            -0.044209"
      ]
     },
     "execution_count": 105,
     "metadata": {},
     "output_type": "execute_result"
    }
   ],
   "source": [
    "# 5. average metallicity by discovery method\n",
    "q5 = pd.read_sql(\"\"\"\n",
    "SELECT discovery_method, AVG(STAR_METALLICITY_DEX) AS avg_metallicity_dex\n",
    "FROM TRANSFORM_EXOPLANET\n",
    "GROUP BY discovery_method\n",
    "ORDER BY avg_metallicity_dex DESC\n",
    "\"\"\", conn)\n",
    "\n",
    "q5.head()"
   ]
  },
  {
   "cell_type": "code",
   "execution_count": 116,
   "id": "a1cdee16",
   "metadata": {},
   "outputs": [
    {
     "name": "stderr",
     "output_type": "stream",
     "text": [
      "/var/folders/dt/1r2bkrkj763_hbb3yn7x007h0000gn/T/ipykernel_4881/596204610.py:2: UserWarning: pandas only supports SQLAlchemy connectable (engine/connection) or database string URI or sqlite3 DBAPI2 connection. Other DBAPI2 objects are not tested. Please consider using SQLAlchemy.\n",
      "  q6 = pd.read_sql(\"\"\"\n"
     ]
    },
    {
     "data": {
      "text/html": [
       "<div>\n",
       "<style scoped>\n",
       "    .dataframe tbody tr th:only-of-type {\n",
       "        vertical-align: middle;\n",
       "    }\n",
       "\n",
       "    .dataframe tbody tr th {\n",
       "        vertical-align: top;\n",
       "    }\n",
       "\n",
       "    .dataframe thead th {\n",
       "        text-align: right;\n",
       "    }\n",
       "</style>\n",
       "<table border=\"1\" class=\"dataframe\">\n",
       "  <thead>\n",
       "    <tr style=\"text-align: right;\">\n",
       "      <th></th>\n",
       "      <th>HEMISPHERE</th>\n",
       "      <th>NUM_PLANETS</th>\n",
       "    </tr>\n",
       "  </thead>\n",
       "  <tbody>\n",
       "    <tr>\n",
       "      <th>0</th>\n",
       "      <td>South</td>\n",
       "      <td>843</td>\n",
       "    </tr>\n",
       "    <tr>\n",
       "      <th>1</th>\n",
       "      <td>North</td>\n",
       "      <td>3555</td>\n",
       "    </tr>\n",
       "  </tbody>\n",
       "</table>\n",
       "</div>"
      ],
      "text/plain": [
       "  HEMISPHERE  NUM_PLANETS\n",
       "0      South          843\n",
       "1      North         3555"
      ]
     },
     "execution_count": 116,
     "metadata": {},
     "output_type": "execute_result"
    }
   ],
   "source": [
    "# 6. count of planets in northern vs southern sky\n",
    "q6 = pd.read_sql(\"\"\"\n",
    "SELECT\n",
    "    CASE WHEN declination_deg >= 0 THEN 'North' ELSE 'South' END AS hemisphere,\n",
    "    COUNT(*) AS num_planets\n",
    "FROM TRANSFORM_EXOPLANET\n",
    "GROUP BY hemisphere\n",
    "\"\"\", conn)\n",
    "\n",
    "q6.head()\n"
   ]
  },
  {
   "cell_type": "code",
   "execution_count": 122,
   "id": "f87f6535",
   "metadata": {},
   "outputs": [
    {
     "data": {
      "image/png": "[encoded data removed]",
      "text/plain": [
       "<Figure size 600x600 with 1 Axes>"
      ]
     },
     "metadata": {},
     "output_type": "display_data"
    }
   ],
   "source": [
    "# 7. pie chart for the count of planets in northern vs southern sky\n",
    "import matplotlib.pyplot as plt\n",
    "q7 = q6.copy()\n",
    "q7.set_index('HEMISPHERE')['NUM_PLANETS'].plot.pie(\n",
    "    autopct='%1.1f%%',\n",
    "    figsize=(6, 6),\n",
    "    ylabel=''\n",
    ")\n",
    "plt.title('Planets by Hemisphere (North vs South)')\n",
    "plt.show()\n"
   ]
  },
  {
   "cell_type": "code",
   "execution_count": 109,
   "id": "6d4ac9ec",
   "metadata": {},
   "outputs": [
    {
     "name": "stderr",
     "output_type": "stream",
     "text": [
      "/var/folders/dt/1r2bkrkj763_hbb3yn7x007h0000gn/T/ipykernel_4881/2783248043.py:2: UserWarning: pandas only supports SQLAlchemy connectable (engine/connection) or database string URI or sqlite3 DBAPI2 connection. Other DBAPI2 objects are not tested. Please consider using SQLAlchemy.\n",
      "  q7 = pd.read_sql(\"\"\"\n"
     ]
    },
    {
     "data": {
      "text/html": [
       "<div>\n",
       "<style scoped>\n",
       "    .dataframe tbody tr th:only-of-type {\n",
       "        vertical-align: middle;\n",
       "    }\n",
       "\n",
       "    .dataframe tbody tr th {\n",
       "        vertical-align: top;\n",
       "    }\n",
       "\n",
       "    .dataframe thead th {\n",
       "        text-align: right;\n",
       "    }\n",
       "</style>\n",
       "<table border=\"1\" class=\"dataframe\">\n",
       "  <thead>\n",
       "    <tr style=\"text-align: right;\">\n",
       "      <th></th>\n",
       "      <th>RIGHT_ASCENSION_DEG</th>\n",
       "      <th>DECLINATION_DEG</th>\n",
       "      <th>PLANET_EQ_TEMPERATURE_K</th>\n",
       "      <th>STAR_METALLICITY_DEX</th>\n",
       "      <th>DISCOVERY_METHOD</th>\n",
       "      <th>CONTROVERSIAL_FLAG</th>\n",
       "      <th>ORBITAL_AXIS_LIMIT</th>\n",
       "    </tr>\n",
       "  </thead>\n",
       "  <tbody>\n",
       "    <tr>\n",
       "      <th>0</th>\n",
       "      <td>225.686732</td>\n",
       "      <td>-3.031487</td>\n",
       "      <td>3353.0</td>\n",
       "      <td>0.29</td>\n",
       "      <td>Transit</td>\n",
       "      <td>0.0</td>\n",
       "      <td>0.0</td>\n",
       "    </tr>\n",
       "    <tr>\n",
       "      <th>1</th>\n",
       "      <td>292.247190</td>\n",
       "      <td>47.969543</td>\n",
       "      <td>2733.0</td>\n",
       "      <td>0.26</td>\n",
       "      <td>Transit</td>\n",
       "      <td>0.0</td>\n",
       "      <td>0.0</td>\n",
       "    </tr>\n",
       "    <tr>\n",
       "      <th>2</th>\n",
       "      <td>107.600231</td>\n",
       "      <td>-39.097271</td>\n",
       "      <td>2720.0</td>\n",
       "      <td>0.13</td>\n",
       "      <td>Transit</td>\n",
       "      <td>0.0</td>\n",
       "      <td>0.0</td>\n",
       "    </tr>\n",
       "    <tr>\n",
       "      <th>3</th>\n",
       "      <td>247.667000</td>\n",
       "      <td>49.046789</td>\n",
       "      <td>2609.0</td>\n",
       "      <td>0.22</td>\n",
       "      <td>Transit</td>\n",
       "      <td>0.0</td>\n",
       "      <td>0.0</td>\n",
       "    </tr>\n",
       "    <tr>\n",
       "      <th>4</th>\n",
       "      <td>97.636645</td>\n",
       "      <td>29.672266</td>\n",
       "      <td>2601.0</td>\n",
       "      <td>0.12</td>\n",
       "      <td>Transit</td>\n",
       "      <td>0.0</td>\n",
       "      <td>0.0</td>\n",
       "    </tr>\n",
       "  </tbody>\n",
       "</table>\n",
       "</div>"
      ],
      "text/plain": [
       "   RIGHT_ASCENSION_DEG  DECLINATION_DEG  PLANET_EQ_TEMPERATURE_K  \\\n",
       "0           225.686732        -3.031487                   3353.0   \n",
       "1           292.247190        47.969543                   2733.0   \n",
       "2           107.600231       -39.097271                   2720.0   \n",
       "3           247.667000        49.046789                   2609.0   \n",
       "4            97.636645        29.672266                   2601.0   \n",
       "\n",
       "   STAR_METALLICITY_DEX DISCOVERY_METHOD  CONTROVERSIAL_FLAG  \\\n",
       "0                  0.29          Transit                 0.0   \n",
       "1                  0.26          Transit                 0.0   \n",
       "2                  0.13          Transit                 0.0   \n",
       "3                  0.22          Transit                 0.0   \n",
       "4                  0.12          Transit                 0.0   \n",
       "\n",
       "   ORBITAL_AXIS_LIMIT  \n",
       "0                 0.0  \n",
       "1                 0.0  \n",
       "2                 0.0  \n",
       "3                 0.0  \n",
       "4                 0.0  "
      ]
     },
     "execution_count": 109,
     "metadata": {},
     "output_type": "execute_result"
    }
   ],
   "source": [
    "# 8. hottest planets with high metallicity stars\n",
    "q8 = pd.read_sql(\"\"\"\n",
    "SELECT *\n",
    "FROM TRANSFORM_EXOPLANET \n",
    "WHERE star_metallicity_dex > 0.1\n",
    "ORDER BY planet_eq_temperature_k DESC\n",
    "LIMIT 10\n",
    "\"\"\", conn)\n",
    "q8.head()"
   ]
  },
  {
   "cell_type": "code",
   "execution_count": 111,
   "id": "5cf360b7",
   "metadata": {},
   "outputs": [
    {
     "name": "stderr",
     "output_type": "stream",
     "text": [
      "/var/folders/dt/1r2bkrkj763_hbb3yn7x007h0000gn/T/ipykernel_4881/4145247619.py:2: UserWarning: pandas only supports SQLAlchemy connectable (engine/connection) or database string URI or sqlite3 DBAPI2 connection. Other DBAPI2 objects are not tested. Please consider using SQLAlchemy.\n",
      "  q8 = pd.read_sql(\"\"\"\n"
     ]
    },
    {
     "data": {
      "text/html": [
       "<div>\n",
       "<style scoped>\n",
       "    .dataframe tbody tr th:only-of-type {\n",
       "        vertical-align: middle;\n",
       "    }\n",
       "\n",
       "    .dataframe tbody tr th {\n",
       "        vertical-align: top;\n",
       "    }\n",
       "\n",
       "    .dataframe thead th {\n",
       "        text-align: right;\n",
       "    }\n",
       "</style>\n",
       "<table border=\"1\" class=\"dataframe\">\n",
       "  <thead>\n",
       "    <tr style=\"text-align: right;\">\n",
       "      <th></th>\n",
       "      <th>RIGHT_ASCENSION_DEG</th>\n",
       "      <th>DECLINATION_DEG</th>\n",
       "      <th>PLANET_EQ_TEMPERATURE_K</th>\n",
       "      <th>STAR_METALLICITY_DEX</th>\n",
       "      <th>DISCOVERY_METHOD</th>\n",
       "      <th>CONTROVERSIAL_FLAG</th>\n",
       "      <th>ORBITAL_AXIS_LIMIT</th>\n",
       "    </tr>\n",
       "  </thead>\n",
       "  <tbody>\n",
       "  </tbody>\n",
       "</table>\n",
       "</div>"
      ],
      "text/plain": [
       "Empty DataFrame\n",
       "Columns: [RIGHT_ASCENSION_DEG, DECLINATION_DEG, PLANET_EQ_TEMPERATURE_K, STAR_METALLICITY_DEX, DISCOVERY_METHOD, CONTROVERSIAL_FLAG, ORBITAL_AXIS_LIMIT]\n",
       "Index: []"
      ]
     },
     "execution_count": 111,
     "metadata": {},
     "output_type": "execute_result"
    }
   ],
   "source": [
    "# 9. Planets with non zero orbital axis -> none are,lol\n",
    "q9 = pd.read_sql(\"\"\"\n",
    "SELECT *\n",
    "FROM TRANSFORM_EXOPLANET \n",
    "WHERE ORBITAL_AXIS_LIMIT > 0.0\n",
    "LIMIT 10\n",
    "\"\"\", conn)\n",
    "q9.head()"
   ]
  },
  {
   "cell_type": "code",
   "execution_count": 114,
   "id": "54fcb9f0",
   "metadata": {},
   "outputs": [
    {
     "name": "stderr",
     "output_type": "stream",
     "text": [
      "/var/folders/dt/1r2bkrkj763_hbb3yn7x007h0000gn/T/ipykernel_4881/1174752393.py:2: UserWarning: pandas only supports SQLAlchemy connectable (engine/connection) or database string URI or sqlite3 DBAPI2 connection. Other DBAPI2 objects are not tested. Please consider using SQLAlchemy.\n",
      "  q9 = pd.read_sql(\"\"\"\n"
     ]
    },
    {
     "data": {
      "text/html": [
       "<div>\n",
       "<style scoped>\n",
       "    .dataframe tbody tr th:only-of-type {\n",
       "        vertical-align: middle;\n",
       "    }\n",
       "\n",
       "    .dataframe tbody tr th {\n",
       "        vertical-align: top;\n",
       "    }\n",
       "\n",
       "    .dataframe thead th {\n",
       "        text-align: right;\n",
       "    }\n",
       "</style>\n",
       "<table border=\"1\" class=\"dataframe\">\n",
       "  <thead>\n",
       "    <tr style=\"text-align: right;\">\n",
       "      <th></th>\n",
       "      <th>SKY_QUADRANT</th>\n",
       "      <th>NUM_PLANETS</th>\n",
       "    </tr>\n",
       "  </thead>\n",
       "  <tbody>\n",
       "    <tr>\n",
       "      <th>0</th>\n",
       "      <td>Q4</td>\n",
       "      <td>407</td>\n",
       "    </tr>\n",
       "    <tr>\n",
       "      <th>1</th>\n",
       "      <td>Q2</td>\n",
       "      <td>447</td>\n",
       "    </tr>\n",
       "    <tr>\n",
       "      <th>2</th>\n",
       "      <td>Q3</td>\n",
       "      <td>436</td>\n",
       "    </tr>\n",
       "    <tr>\n",
       "      <th>3</th>\n",
       "      <td>Q1</td>\n",
       "      <td>3108</td>\n",
       "    </tr>\n",
       "  </tbody>\n",
       "</table>\n",
       "</div>"
      ],
      "text/plain": [
       "  SKY_QUADRANT  NUM_PLANETS\n",
       "0           Q4          407\n",
       "1           Q2          447\n",
       "2           Q3          436\n",
       "3           Q1         3108"
      ]
     },
     "execution_count": 114,
     "metadata": {},
     "output_type": "execute_result"
    }
   ],
   "source": [
    "# 10. Count of planets by quadrant (RA/DEC)\n",
    "q10 = pd.read_sql(\"\"\"\n",
    "SELECT\n",
    "    CASE\n",
    "        WHEN RIGHT_ASCENSION_DEG > 180 AND declination_deg > 0 THEN 'Q1'\n",
    "        WHEN RIGHT_ASCENSION_DEG <= 180 AND declination_deg > 0 THEN 'Q2'\n",
    "        WHEN RIGHT_ASCENSION_DEG <= 180 AND declination_deg <= 0 THEN 'Q3'\n",
    "        ELSE 'Q4'\n",
    "    END AS sky_quadrant,\n",
    "    COUNT(*) AS num_planets\n",
    "FROM TRANSFORM_EXOPLANET\n",
    "GROUP BY sky_quadrant\n",
    "\"\"\", conn)\n",
    "q10.head()\n"
   ]
  },
  {
   "cell_type": "code",
   "execution_count": null,
   "id": "ba6e1bfa",
   "metadata": {},
   "outputs": [
    {
     "name": "stderr",
     "output_type": "stream",
     "text": [
      "/var/folders/dt/1r2bkrkj763_hbb3yn7x007h0000gn/T/ipykernel_4881/2151681889.py:2: UserWarning: pandas only supports SQLAlchemy connectable (engine/connection) or database string URI or sqlite3 DBAPI2 connection. Other DBAPI2 objects are not tested. Please consider using SQLAlchemy.\n",
      "  q11 = pd.read_sql(\"\"\"\n"
     ]
    }
   ],
   "source": [
    "# 11. Standard deviation of planet temperatures by discovery method\n",
    "q11 = pd.read_sql(\"\"\"\n",
    "SELECT discovery_method, STDDEV(planet_eq_temperature_k) as stddev_planet_eq_temperature_k\n",
    "FROM TRANSFORM_EXOPLANET\n",
    "ORDER BY stddev_planet_eq_temperature_k\n",
    "\"\"\",conn)\n",
    "q11.head()\n"
   ]
  },
  {
   "cell_type": "code",
   "execution_count": null,
   "id": "65de911d",
   "metadata": {},
   "outputs": [],
   "source": []
  }
 ],
 "metadata": {
  "kernelspec": {
   "display_name": "Python 3 (ipykernel)",
   "language": "python",
   "name": "python3"
  },
  "language_info": {
   "codemirror_mode": {
    "name": "ipython",
    "version": 3
   },
   "file_extension": ".py",
   "mimetype": "text/x-python",
   "name": "python",
   "nbconvert_exporter": "python",
   "pygments_lexer": "ipython3",
   "version": "3.11.5"
  }
 },
 "nbformat": 4,
 "nbformat_minor": 5
}
